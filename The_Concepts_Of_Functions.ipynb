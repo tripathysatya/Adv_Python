{
 "cells": [
  {
   "cell_type": "code",
   "execution_count": null,
   "metadata": {},
   "outputs": [],
   "source": [
    "The Concepts Of Functions:\n",
    "    \n",
    "Its runs on DRY principle means DONT REPEAT YOUR CODE.\n",
    "\n",
    "# The Biggest advantage of usiing the function is reusabilty of code.\n",
    "\n",
    "Types Of Functions:\n",
    "    \n",
    "1.Built-in/Pre-defined Functions:\n",
    "2.User Defined Functions.\n",
    "\n",
    "1>Pre Defined Functions are:\n",
    "id(),print(),input(),eval(),len()....etc\n",
    "\n",
    "2>User-defined functions:\n",
    "Syntax:\n",
    "    def funtion_name(parameters)\n",
    "    ''' '''\n",
    "    business logic_1\n",
    "    business logic_2\n",
    "    return\n",
    "\n",
    "def and return are the keywords in a function.\n",
    "\n",
    "def is a mandatory keyword ,whereas return is optional.\n",
    "\n",
    "Parameters: This is nothing but inputs to the functions.\n",
    "\n",
    "If a function has parameters during the definition ,then its COMPULSORY to pass the arguments while calling it."
   ]
  },
  {
   "cell_type": "code",
   "execution_count": 1,
   "metadata": {},
   "outputs": [
    {
     "name": "stdout",
     "output_type": "stream",
     "text": [
      "The Sum is : 30\n",
      "The product is : 200\n",
      "The difference is: 10\n",
      "The Devident is : 2.0\n",
      "The Sum is : 300\n",
      "The product is : 20000\n",
      "The difference is: 100\n",
      "The Devident is : 2.0\n",
      "The Sum is : 3000\n",
      "The product is : 2000000\n",
      "The difference is: 1000\n",
      "The Devident is : 2.0\n"
     ]
    }
   ],
   "source": [
    "def calc(a,b):\n",
    "    print('The Sum is :',a+b)\n",
    "    print('The product is :',a*b)\n",
    "    print('The difference is:',a-b)\n",
    "    print('The Devident is :',a/b)\n",
    "\n",
    "calc(20,10)\n",
    "calc(200,100)\n",
    "calc(2000,1000)\n"
   ]
  },
  {
   "cell_type": "code",
   "execution_count": 6,
   "metadata": {},
   "outputs": [
    {
     "name": "stdout",
     "output_type": "stream",
     "text": [
      "Hi satya, How are you doing\n"
     ]
    }
   ],
   "source": [
    "#WAP to take student name and print a greeting message by entering their names.\n",
    "\n",
    "\n",
    "def wishing(name):\n",
    "    print('Hi {}, How are you doing'.format(name))\n",
    "    \n",
    "wishing('satya')\n",
    "\n",
    "\n"
   ]
  },
  {
   "cell_type": "code",
   "execution_count": 8,
   "metadata": {},
   "outputs": [
    {
     "name": "stdout",
     "output_type": "stream",
     "text": [
      "Enter the nameDurga\n",
      "Hi Durga, How are you doing\n"
     ]
    }
   ],
   "source": [
    "# With Dynamic Input:\n",
    "\n",
    "def wishing(name):\n",
    "    print('Hi {}, How are you doing'.format(name))\n",
    "    \n",
    "name=input('Enter the name')\n",
    "wishing(name)"
   ]
  },
  {
   "cell_type": "code",
   "execution_count": 9,
   "metadata": {},
   "outputs": [
    {
     "name": "stdout",
     "output_type": "stream",
     "text": [
      "The Square of 4 is : 16\n",
      "The Square of 10 is : 100\n",
      "The Square of 16 is : 256\n"
     ]
    }
   ],
   "source": [
    "# WAP to take int values as input and print the respective square values.\n",
    "\n",
    "def squareIT(number):\n",
    "    print('The Square of {} is : {}'.format(number,number**2))\n",
    "\n",
    "\n",
    "squareIT(4)\n",
    "squareIT(10)\n",
    "squareIT(16)"
   ]
  },
  {
   "cell_type": "code",
   "execution_count": 15,
   "metadata": {},
   "outputs": [
    {
     "name": "stdout",
     "output_type": "stream",
     "text": [
      "The sum of 10 and 20 is : 30\n"
     ]
    }
   ],
   "source": [
    "# WAP to take int values as input and print the respective sum values.\n",
    "\n",
    "def add(x,y):\n",
    "    print('The sum of {} and {} is : {}'.format(x,y,x+y))\n",
    "\n",
    "\n",
    "add(10,20)\n"
   ]
  },
  {
   "cell_type": "code",
   "execution_count": null,
   "metadata": {},
   "outputs": [],
   "source": [
    "Paremeters-------->Functions----------->return (output)"
   ]
  },
  {
   "cell_type": "code",
   "execution_count": 17,
   "metadata": {},
   "outputs": [
    {
     "name": "stdout",
     "output_type": "stream",
     "text": [
      "The sum is : 30\n"
     ]
    }
   ],
   "source": [
    "#With The return statement:\n",
    "\n",
    "def add(x,y):\n",
    "    return x+y\n",
    "\n",
    "result=add(10,20)\n",
    "print('The sum is :',result)\n",
    "\n"
   ]
  },
  {
   "cell_type": "code",
   "execution_count": 19,
   "metadata": {},
   "outputs": [
    {
     "name": "stdout",
     "output_type": "stream",
     "text": [
      "calling add function...\n",
      "30\n"
     ]
    }
   ],
   "source": [
    "def add(x,y):\n",
    "    print('calling add function...')\n",
    "    return x+y\n",
    "\n",
    "result=add(10,20) #Return has default value of None if we dont passing any arguments in return\n",
    "print(result)\n"
   ]
  },
  {
   "cell_type": "code",
   "execution_count": 21,
   "metadata": {},
   "outputs": [
    {
     "name": "stdout",
     "output_type": "stream",
     "text": [
      "Hello\n",
      "None\n"
     ]
    }
   ],
   "source": [
    "def f1():\n",
    "    print('Hello')\n",
    "    \n",
    "result=f1() \n",
    "print(result)"
   ]
  },
  {
   "cell_type": "code",
   "execution_count": 23,
   "metadata": {},
   "outputs": [
    {
     "name": "stdout",
     "output_type": "stream",
     "text": [
      "Enter Some Number To Check:10\n",
      "it is an even number\n"
     ]
    }
   ],
   "source": [
    "# WAF to check given no even or odd.\n",
    "\n",
    "def even_odd(x):\n",
    "    if x%2==0:\n",
    "        print('it is an even number')\n",
    "    else:\n",
    "        print('it is odd number')\n",
    "\n",
    "even_odd(int(input('Enter Some Number To Check:')))\n",
    "    "
   ]
  },
  {
   "cell_type": "code",
   "execution_count": 24,
   "metadata": {},
   "outputs": [
    {
     "name": "stdout",
     "output_type": "stream",
     "text": [
      "it is an even number\n",
      "None\n"
     ]
    }
   ],
   "source": [
    "def even_odd(x):\n",
    "    if x%2==0:\n",
    "        print('it is an even number')\n",
    "    else:\n",
    "        print('it is odd number')\n",
    "\n",
    "result=even_odd(10)\n",
    "print(result)"
   ]
  },
  {
   "cell_type": "code",
   "execution_count": 25,
   "metadata": {},
   "outputs": [
    {
     "name": "stdout",
     "output_type": "stream",
     "text": [
      "d\n",
      "u\n",
      "r\n",
      "g\n",
      "a\n",
      "1\n",
      "2\n",
      "3\n",
      "4\n",
      "5\n",
      "6\n",
      "7\n",
      "8\n",
      "9\n",
      "10\n",
      "11\n",
      "12\n",
      "13\n",
      "14\n",
      "15\n"
     ]
    }
   ],
   "source": [
    "def show(sequence):\n",
    "    for x in sequence:\n",
    "        print(x)\n",
    "\n",
    "show('durga')\n",
    "show(range(1,16))"
   ]
  },
  {
   "cell_type": "code",
   "execution_count": 28,
   "metadata": {},
   "outputs": [
    {
     "name": "stdout",
     "output_type": "stream",
     "text": [
      "The Factorial of 1 is 1\n",
      "The Factorial of 2 is 2\n",
      "The Factorial of 3 is 6\n",
      "The Factorial of 4 is 24\n",
      "The Factorial of 5 is 120\n",
      "The Factorial of 6 is 720\n",
      "The Factorial of 7 is 5040\n",
      "The Factorial of 8 is 40320\n",
      "The Factorial of 9 is 362880\n",
      "The Factorial of 10 is 3628800\n"
     ]
    }
   ],
   "source": [
    "# WAF to find the factorial of a given number:\n",
    "\n",
    "def factorial(n):\n",
    "    result=1\n",
    "    while n>1:\n",
    "        result=result*n\n",
    "        n=n-1\n",
    "    return result\n",
    "for i in range (1,11):\n",
    "    print('The Factorial of {} is {}'.format(i,factorial(i)))"
   ]
  },
  {
   "cell_type": "code",
   "execution_count": 29,
   "metadata": {},
   "outputs": [
    {
     "name": "stdout",
     "output_type": "stream",
     "text": [
      "The Factorial of 0 is 1\n",
      "The Factorial of 1 is 1\n",
      "The Factorial of 1 is 2\n",
      "The Factorial of 1 is 6\n",
      "The Factorial of 1 is 24\n",
      "The Factorial of 1 is 120\n",
      "The Factorial of 1 is 720\n",
      "The Factorial of 1 is 5040\n",
      "The Factorial of 1 is 40320\n",
      "The Factorial of 1 is 362880\n",
      "The Factorial of 1 is 3628800\n"
     ]
    }
   ],
   "source": [
    "def factorial(n):\n",
    "    result=1\n",
    "    while n>1:\n",
    "        result=result*n\n",
    "        n=n-1\n",
    "    print('The Factorial of {} is {}'.format(n,result))\n",
    "for i in range (11):\n",
    "    factorial(i)"
   ]
  },
  {
   "cell_type": "code",
   "execution_count": null,
   "metadata": {},
   "outputs": [],
   "source": [
    "Multiple return statements:\n"
   ]
  },
  {
   "cell_type": "code",
   "execution_count": 32,
   "metadata": {},
   "outputs": [
    {
     "name": "stdout",
     "output_type": "stream",
     "text": [
      "The Sum is : 30\n",
      "The Difference is : 10\n"
     ]
    }
   ],
   "source": [
    "def calc(a,b):\n",
    "    sum=a+b\n",
    "    sub=a-b\n",
    "    return sum,sub\n",
    "\n",
    "x,y=calc(20,10)\n",
    "print('The Sum is :',x)\n",
    "print('The Difference is :',y)\n",
    "    \n"
   ]
  },
  {
   "cell_type": "code",
   "execution_count": 33,
   "metadata": {},
   "outputs": [
    {
     "name": "stdout",
     "output_type": "stream",
     "text": [
      "<class 'tuple'>\n"
     ]
    }
   ],
   "source": [
    "def calc(a,b):\n",
    "    sum=a+b\n",
    "    sub=a-b\n",
    "    return sum,sub\n",
    "\n",
    "t=calc(20,10)\n",
    "print(type(t))\n"
   ]
  },
  {
   "cell_type": "code",
   "execution_count": 34,
   "metadata": {},
   "outputs": [
    {
     "name": "stdout",
     "output_type": "stream",
     "text": [
      "The results are:\n",
      "30\n",
      "10\n",
      "200\n",
      "2.0\n"
     ]
    }
   ],
   "source": [
    "def calculation(a,b):\n",
    "    sum=a+b\n",
    "    subtraction=a-b\n",
    "    multiplication=a*b\n",
    "    division=a/b\n",
    "    return sum,subtraction,multiplication,division\n",
    "\n",
    "t=calculation(20,10)\n",
    "print('The results are:')\n",
    "for x in t:\n",
    "    print(x)\n",
    "\n",
    "\n"
   ]
  },
  {
   "cell_type": "code",
   "execution_count": null,
   "metadata": {},
   "outputs": [],
   "source": [
    "What are parameters and argumrnts?\n",
    "\n",
    "def f1(a,b):   # Here a,b are called as formal parameters\n",
    "    pass\n",
    "f1(10,20)     # Here 10,20  are known as argumrnts."
   ]
  },
  {
   "cell_type": "code",
   "execution_count": null,
   "metadata": {},
   "outputs": [],
   "source": [
    "Types of arguments:\n",
    "    \n",
    "1.Positional Argument :At The Time of calling\n",
    "\n",
    "2.keyword Arguments: At the time of calling\n",
    "\n",
    "3.Default Arguments:At the time of declaration\n",
    "\n",
    "4.variable-length Arguments: At the time of declaration.\n"
   ]
  },
  {
   "cell_type": "code",
   "execution_count": 5,
   "metadata": {},
   "outputs": [],
   "source": [
    "# 1.Positional Arguments:\n",
    "\n",
    "# The Number of argumests MUST be matched.\n",
    "# The Order of arguments are IMPORTANT.\n",
    "# The result may change incase we change the order.\n",
    "\n",
    "\n"
   ]
  },
  {
   "cell_type": "code",
   "execution_count": 6,
   "metadata": {},
   "outputs": [
    {
     "name": "stdout",
     "output_type": "stream",
     "text": [
      "-10\n",
      "10\n"
     ]
    }
   ],
   "source": [
    "def sub(a,b):\n",
    "    print(a-b)\n",
    "\n",
    "sub(10,20)   #The result is -10 so order is imporant  and no of arg must match \n",
    "sub(20,10)   # The resullt is 10 so order is imporant  and no of arg must match "
   ]
  },
  {
   "cell_type": "code",
   "execution_count": null,
   "metadata": {},
   "outputs": [],
   "source": [
    "# 2.Keyword Arguments:\n",
    "\n",
    "\n",
    "# Here we need to pass values as keyword.\n",
    "# The number of arguments must be matched.\n",
    "#The order isn't important\n"
   ]
  },
  {
   "cell_type": "code",
   "execution_count": 8,
   "metadata": {},
   "outputs": [
    {
     "name": "stdout",
     "output_type": "stream",
     "text": [
      "10\n",
      "-10\n"
     ]
    }
   ],
   "source": [
    "def sub(a,b):\n",
    "    print (a-b)\n",
    "    \n",
    "sub(a=20,b=10)   # The number of arguments must be matched.\n",
    "sub(b=20,a=10)   # The order isn't important"
   ]
  },
  {
   "cell_type": "code",
   "execution_count": null,
   "metadata": {},
   "outputs": [],
   "source": [
    "We can use both postional & Keyword arguments together:\n",
    "\n",
    "Condition:The positional argument MUST follow the keyword argumemts.\n",
    "\n",
    "# The Number of arguments must be matched.\n",
    "# The order is not important."
   ]
  },
  {
   "cell_type": "code",
   "execution_count": 10,
   "metadata": {},
   "outputs": [
    {
     "name": "stdout",
     "output_type": "stream",
     "text": [
      "-10\n",
      "-10\n"
     ]
    }
   ],
   "source": [
    "def sub(a,b):\n",
    "    print (a-b)\n",
    "    \n",
    "sub(10,b=20)   \n",
    "sub(a=10,b=20)\n",
    " "
   ]
  },
  {
   "cell_type": "code",
   "execution_count": 22,
   "metadata": {},
   "outputs": [
    {
     "ename": "SyntaxError",
     "evalue": "positional argument follows keyword argument (<ipython-input-22-bf53c163eabc>, line 4)",
     "output_type": "error",
     "traceback": [
      "\u001b[1;36m  File \u001b[1;32m\"<ipython-input-22-bf53c163eabc>\"\u001b[1;36m, line \u001b[1;32m4\u001b[0m\n\u001b[1;33m    sub(10,20,c=30,d,e)\u001b[0m\n\u001b[1;37m                   ^\u001b[0m\n\u001b[1;31mSyntaxError\u001b[0m\u001b[1;31m:\u001b[0m positional argument follows keyword argument\n"
     ]
    }
   ],
   "source": [
    "def sub(a,b,c,d,e):\n",
    "    print(a-b)\n",
    "\n",
    "sub(10,20,c=30,d,e)\n",
    "\n",
    "\n"
   ]
  },
  {
   "cell_type": "code",
   "execution_count": 23,
   "metadata": {},
   "outputs": [
    {
     "name": "stdout",
     "output_type": "stream",
     "text": [
      "-10\n"
     ]
    }
   ],
   "source": [
    "def sub(a,b,c,d,e):\n",
    "    print(a-b)\n",
    "\n",
    "sub(10,20,30,40,50)"
   ]
  },
  {
   "cell_type": "code",
   "execution_count": 24,
   "metadata": {},
   "outputs": [
    {
     "name": "stdout",
     "output_type": "stream",
     "text": [
      "-10\n"
     ]
    }
   ],
   "source": [
    "def sub(a,b,c,d,e):\n",
    "    print(a-b)\n",
    "\n",
    "sub(10,20,c=30,d=40,e=50)"
   ]
  },
  {
   "cell_type": "code",
   "execution_count": 26,
   "metadata": {},
   "outputs": [
    {
     "name": "stdout",
     "output_type": "stream",
     "text": [
      "Hello durga How are you\n"
     ]
    }
   ],
   "source": [
    "def wish(name,msg):\n",
    "    print('Hello',name,msg)\n",
    "\n",
    "wish('durga','How are you')\n",
    "\n"
   ]
  },
  {
   "cell_type": "code",
   "execution_count": 27,
   "metadata": {},
   "outputs": [
    {
     "name": "stdout",
     "output_type": "stream",
     "text": [
      "Hello durga Good Morning\n"
     ]
    }
   ],
   "source": [
    "def wish(name,msg):\n",
    "    print('Hello',name,msg)\n",
    "\n",
    "\n",
    "wish('durga',msg='Good Morning')\n"
   ]
  },
  {
   "cell_type": "code",
   "execution_count": 29,
   "metadata": {},
   "outputs": [
    {
     "ename": "SyntaxError",
     "evalue": "positional argument follows keyword argument (<ipython-input-29-96e474f95272>, line 5)",
     "output_type": "error",
     "traceback": [
      "\u001b[1;36m  File \u001b[1;32m\"<ipython-input-29-96e474f95272>\"\u001b[1;36m, line \u001b[1;32m5\u001b[0m\n\u001b[1;33m    wish(name='durga','Good Morning')\u001b[0m\n\u001b[1;37m                      ^\u001b[0m\n\u001b[1;31mSyntaxError\u001b[0m\u001b[1;31m:\u001b[0m positional argument follows keyword argument\n"
     ]
    }
   ],
   "source": [
    "def wish(name,msg):\n",
    "    print('Hello',name,msg)\n",
    "\n",
    "\n",
    "wish(name='durga','Good Morning')\n"
   ]
  },
  {
   "cell_type": "code",
   "execution_count": 30,
   "metadata": {},
   "outputs": [
    {
     "name": "stdout",
     "output_type": "stream",
     "text": [
      "Hello durga Good Morning\n"
     ]
    }
   ],
   "source": [
    "def wish(name,msg):\n",
    "    print('Hello',name,msg)\n",
    "\n",
    "wish(name='durga',msg='Good Morning')"
   ]
  },
  {
   "cell_type": "code",
   "execution_count": null,
   "metadata": {},
   "outputs": [],
   "source": [
    "#3.Default Arguments:\n",
    "\n",
    "# Default arguments are used during the time of declaration.\n",
    "\n",
    "# if the doesn't pass any values ,then default value is considered.\n",
    "\n",
    "# At the time of calling:Postional and Keyword Arguments\n",
    "\n",
    "      # After keyword argument we can't consider positional arguments.\n",
    "\n",
    "#At the time of definition/declaration:Default Arguments.\n",
    "      # After default arguments we can't consider non-default arguments.\n"
   ]
  },
  {
   "cell_type": "code",
   "execution_count": 31,
   "metadata": {},
   "outputs": [
    {
     "name": "stdout",
     "output_type": "stream",
     "text": [
      "Hello Guest Good Morning\n"
     ]
    }
   ],
   "source": [
    "def wish(name='Guest'):\n",
    "    print('Hello',name,'Good Morning')\n",
    "    \n",
    "wish()  # here the default value is considered.\n"
   ]
  },
  {
   "cell_type": "code",
   "execution_count": 32,
   "metadata": {},
   "outputs": [
    {
     "name": "stdout",
     "output_type": "stream",
     "text": [
      "Hello Sachin Good Morning\n"
     ]
    }
   ],
   "source": [
    "def wish(name='Guest'):\n",
    "    print('Hello',name,'Good Morning')\n",
    "    \n",
    "wish('Sachin')   #In case we pass the value while calling,then new value will be replaced by the default value."
   ]
  },
  {
   "cell_type": "code",
   "execution_count": 34,
   "metadata": {},
   "outputs": [
    {
     "name": "stdout",
     "output_type": "stream",
     "text": [
      "Hello Guest Good Morning\n"
     ]
    }
   ],
   "source": [
    "def wish(name='Guest',msg='Good Morning'):\n",
    "    print('Hello',name,msg)\n",
    "    \n",
    "wish()"
   ]
  },
  {
   "cell_type": "code",
   "execution_count": 36,
   "metadata": {},
   "outputs": [
    {
     "name": "stdout",
     "output_type": "stream",
     "text": [
      "Hello sachin Good Morning\n"
     ]
    }
   ],
   "source": [
    "def wish(name='Guest',msg='Good Morning'):\n",
    "    print('Hello',name,msg)\n",
    "    \n",
    "wish(name='sachin')"
   ]
  },
  {
   "cell_type": "code",
   "execution_count": 37,
   "metadata": {},
   "outputs": [
    {
     "name": "stdout",
     "output_type": "stream",
     "text": [
      "Hello Guest Good Morning\n",
      "Hello sachin Good Morning\n",
      "Hello sachin good Morning\n"
     ]
    }
   ],
   "source": [
    "def wish(name='Guest',msg='Good Morning'):\n",
    "    print('Hello',name,msg)\n",
    "    \n",
    "wish()  \n",
    "wish(name='sachin')\n",
    "wish('sachin',msg='good Morning')"
   ]
  },
  {
   "cell_type": "code",
   "execution_count": 39,
   "metadata": {},
   "outputs": [
    {
     "ename": "SyntaxError",
     "evalue": "positional argument follows keyword argument (<ipython-input-39-f9e837abb0d6>, line 4)",
     "output_type": "error",
     "traceback": [
      "\u001b[1;36m  File \u001b[1;32m\"<ipython-input-39-f9e837abb0d6>\"\u001b[1;36m, line \u001b[1;32m4\u001b[0m\n\u001b[1;33m    wish(name='sachin','Good Mornning') # positional argument follows keyword argument\u001b[0m\n\u001b[1;37m                       ^\u001b[0m\n\u001b[1;31mSyntaxError\u001b[0m\u001b[1;31m:\u001b[0m positional argument follows keyword argument\n"
     ]
    }
   ],
   "source": [
    "def wish(name='Guest',msg='Good Morning'):\n",
    "    print('Hello',name,msg)\n",
    "\n",
    "wish(name='sachin','Good Mornning') # positional argument follows keyword argument\n"
   ]
  },
  {
   "cell_type": "code",
   "execution_count": 40,
   "metadata": {},
   "outputs": [
    {
     "ename": "SyntaxError",
     "evalue": "non-default argument follows default argument (<ipython-input-40-a349a6fc568b>, line 1)",
     "output_type": "error",
     "traceback": [
      "\u001b[1;36m  File \u001b[1;32m\"<ipython-input-40-a349a6fc568b>\"\u001b[1;36m, line \u001b[1;32m1\u001b[0m\n\u001b[1;33m    def wish(name='Guest',msg):\u001b[0m\n\u001b[1;37m             ^\u001b[0m\n\u001b[1;31mSyntaxError\u001b[0m\u001b[1;31m:\u001b[0m non-default argument follows default argument\n"
     ]
    }
   ],
   "source": [
    "def wish(name='Guest',msg):    # non-default argument follows default argument\n",
    "    print('Hello',name,msg)\n",
    "\n",
    "wish(name='sachin','Good Mornning')"
   ]
  },
  {
   "cell_type": "code",
   "execution_count": null,
   "metadata": {},
   "outputs": [],
   "source": [
    "# 4.Variable length Arguments:\n",
    "\n",
    "# We can pass only values(variables) during the time of declarations.\n",
    "\n",
    "# We can consider normal & Variable length args together.\n",
    "\n",
    "# A tuple tuple is created automatically after variable length arguments.\n",
    "\n",
    "#We can take variable length arguments anywhere we want at the time of calling.\n"
   ]
  },
  {
   "cell_type": "code",
   "execution_count": 46,
   "metadata": {},
   "outputs": [
    {
     "name": "stdout",
     "output_type": "stream",
     "text": [
      "function\n",
      "function\n",
      "function\n",
      "function\n",
      "function\n"
     ]
    }
   ],
   "source": [
    "def f(*x):\n",
    "    print('function')\n",
    "    \n",
    "f()\n",
    "f(10)\n",
    "f(10,20)\n",
    "f(10,20,30)\n",
    "f(10,20,30,40,50,60,70,80,90)"
   ]
  },
  {
   "cell_type": "code",
   "execution_count": 47,
   "metadata": {},
   "outputs": [
    {
     "name": "stdout",
     "output_type": "stream",
     "text": [
      "The type of x: <class 'tuple'>\n",
      "The number of arguments passed: 0\n",
      "The type of x: <class 'tuple'>\n",
      "The number of arguments passed: 1\n",
      "The type of x: <class 'tuple'>\n",
      "The number of arguments passed: 2\n",
      "The type of x: <class 'tuple'>\n",
      "The number of arguments passed: 3\n",
      "The type of x: <class 'tuple'>\n",
      "The number of arguments passed: 9\n"
     ]
    }
   ],
   "source": [
    "def f(*x):\n",
    "    print('The type of x:',type(x))\n",
    "    print('The number of arguments passed:',len(x))\n",
    "    \n",
    "f()\n",
    "f(10)\n",
    "f(10,20)\n",
    "f(10,20,30)\n",
    "f(10,20,30,40,50,60,70,80,90)"
   ]
  },
  {
   "cell_type": "code",
   "execution_count": 50,
   "metadata": {},
   "outputs": [
    {
     "name": "stdout",
     "output_type": "stream",
     "text": [
      "The sum is: 30\n",
      "The sum is: 90\n",
      "The sum is: 220\n",
      "The sum is: 0\n"
     ]
    }
   ],
   "source": [
    "def sum(*n):\n",
    "    total=0\n",
    "    for n1 in n:\n",
    "        total=total+n1\n",
    "    print('The sum is:',total)\n",
    "\n",
    "sum(10,20)\n",
    "sum(20,30,40)\n",
    "sum(40,50,60,70)\n",
    "sum()"
   ]
  },
  {
   "cell_type": "code",
   "execution_count": 51,
   "metadata": {},
   "outputs": [
    {
     "name": "stdout",
     "output_type": "stream",
     "text": [
      "10\n",
      "Satya\n"
     ]
    }
   ],
   "source": [
    "def sum(*n):\n",
    "    for n1 in n:\n",
    "        print(n1)\n",
    "\n",
    "sum(10,'Satya')     #Printing different data-types.\n",
    " "
   ]
  },
  {
   "cell_type": "code",
   "execution_count": 52,
   "metadata": {},
   "outputs": [
    {
     "name": "stdout",
     "output_type": "stream",
     "text": [
      "([10, 20, 30], [40, 50, 60])\n"
     ]
    }
   ],
   "source": [
    "def sum(*n):\n",
    "    print(n)\n",
    "\n",
    "sum([10,20,30],[40,50,60])  # Sum of tuple of list.\n",
    "    "
   ]
  },
  {
   "cell_type": "code",
   "execution_count": 53,
   "metadata": {},
   "outputs": [
    {
     "name": "stdout",
     "output_type": "stream",
     "text": [
      "10\n",
      "()\n"
     ]
    }
   ],
   "source": [
    "def sum(n,*s):    # We can consider normal & Variable length args together.\n",
    "    print(n)\n",
    "    print(s)\n",
    "    \n",
    "sum(10)\n"
   ]
  },
  {
   "cell_type": "code",
   "execution_count": 55,
   "metadata": {},
   "outputs": [
    {
     "name": "stdout",
     "output_type": "stream",
     "text": [
      "20\n",
      "(30, 40, 50, 60)\n"
     ]
    }
   ],
   "source": [
    "def sum(n,*s):    \n",
    "    print(n)\n",
    "    print(s)\n",
    "    \n",
    "sum(20,30,40,50,60)"
   ]
  },
  {
   "cell_type": "code",
   "execution_count": 58,
   "metadata": {},
   "outputs": [
    {
     "name": "stdout",
     "output_type": "stream",
     "text": [
      "(10, 20, 30, 40, 50)\n",
      "60\n"
     ]
    }
   ],
   "source": [
    "def sum(*s,n):    \n",
    "    print(s)\n",
    "    print(n)\n",
    "    \n",
    "sum(10,20,30,40,50,n=60)  # During the time of declaration if we are considering any other argument ,while calling we must call it by keyword arg only"
   ]
  },
  {
   "cell_type": "code",
   "execution_count": 60,
   "metadata": {},
   "outputs": [
    {
     "name": "stdout",
     "output_type": "stream",
     "text": [
      "(10, 20, 30, 40, 50)\n",
      "12345\n"
     ]
    }
   ],
   "source": [
    "def sum(*s,n=12345):    # Default argument is passed after variable length\n",
    "    print(s)\n",
    "    print(n)\n",
    "    \n",
    "sum(10,20,30,40,50)    # Default argument is retunred."
   ]
  },
  {
   "cell_type": "code",
   "execution_count": 61,
   "metadata": {},
   "outputs": [
    {
     "name": "stdout",
     "output_type": "stream",
     "text": [
      "(10, 20, 30, 40, 50)\n",
      "durga\n"
     ]
    }
   ],
   "source": [
    "def sum(*s,n='durga'):    # Default argument is passed after variable length\n",
    "    print(s)\n",
    "    print(n)\n",
    "    \n",
    "sum(10,20,30,40,50)      # Default argument is retunred."
   ]
  },
  {
   "cell_type": "code",
   "execution_count": 62,
   "metadata": {},
   "outputs": [
    {
     "name": "stdout",
     "output_type": "stream",
     "text": [
      "(20, 30, 40, 50)\n",
      "10\n"
     ]
    }
   ],
   "source": [
    "def sum(n=10,*s):    #Default argument is passed before variable length arg.\n",
    "    print(s)\n",
    "    print(n)\n",
    "    \n",
    "sum(10,20,30,40,50)"
   ]
  },
  {
   "cell_type": "code",
   "execution_count": 63,
   "metadata": {},
   "outputs": [
    {
     "name": "stdout",
     "output_type": "stream",
     "text": [
      "(20, 30, 40, 50)\n",
      "7777\n"
     ]
    }
   ],
   "source": [
    "def sum(n=10,*s):       # Only variable length args can be passed after default agrs.\n",
    "    print(s)\n",
    "    print(n)\n",
    "    \n",
    "sum(7777,20,30,40,50)   # The Default arg has been replaced from n=10 to 7777."
   ]
  },
  {
   "cell_type": "code",
   "execution_count": 64,
   "metadata": {},
   "outputs": [
    {
     "ename": "SyntaxError",
     "evalue": "invalid syntax (<ipython-input-64-1a642a655841>, line 1)",
     "output_type": "error",
     "traceback": [
      "\u001b[1;36m  File \u001b[1;32m\"<ipython-input-64-1a642a655841>\"\u001b[1;36m, line \u001b[1;32m1\u001b[0m\n\u001b[1;33m    def sum(*m,*n):\u001b[0m\n\u001b[1;37m               ^\u001b[0m\n\u001b[1;31mSyntaxError\u001b[0m\u001b[1;31m:\u001b[0m invalid syntax\n"
     ]
    }
   ],
   "source": [
    "def sum(*m,*n):    # Multiple variable length arguments can't be considered .   \n",
    "    print(m)\n",
    "    print(n)\n",
    "    \n",
    "sum(10,20,30,40,50)"
   ]
  },
  {
   "cell_type": "code",
   "execution_count": null,
   "metadata": {},
   "outputs": [],
   "source": [
    "*-->We can provide any number of values for x and it will become a tuple.\n",
    "*args--->General Coding standards.\n",
    "\n",
    "**x--->we can pass a key-value pair and a collection of key-value pair is a dictionary.\n",
    "**kwargs-->General Coding standard.\n",
    "\n",
    "Rules:\n",
    "1>After **kwargs we cant take positional args \n",
    "2>After defaulf args we cant consider normal args ,but we can consider variable length args.\n",
    "3>After variable length args if we are considering normal args,compulsorily we must provide values by keywords only while calling.\n",
    "4>We can take atmost 1 variable length args.\n",
    "5>**kwargs should be the last args."
   ]
  },
  {
   "cell_type": "code",
   "execution_count": 72,
   "metadata": {},
   "outputs": [
    {
     "name": "stdout",
     "output_type": "stream",
     "text": [
      "<class 'dict'>\n",
      "{}\n"
     ]
    }
   ],
   "source": [
    "def display(**kwargs):\n",
    "    print(type(kwargs))\n",
    "    print(kwargs)\n",
    "\n",
    "display()\n",
    "\n",
    "    \n"
   ]
  },
  {
   "cell_type": "code",
   "execution_count": 73,
   "metadata": {},
   "outputs": [
    {
     "name": "stdout",
     "output_type": "stream",
     "text": [
      "<class 'dict'>\n",
      "{'name': 'Durga', 'roll_no': 101, 'marks': 90, 'gf1': 'Sunny', 'gf2': 'Mallika'}\n"
     ]
    }
   ],
   "source": [
    "def display(**kwargs):\n",
    "    print(type(kwargs))\n",
    "    print(kwargs)\n",
    "\n",
    "display(name='Durga',roll_no=101,marks=90,gf1='Sunny',gf2='Mallika')\n"
   ]
  },
  {
   "cell_type": "code",
   "execution_count": 74,
   "metadata": {},
   "outputs": [
    {
     "name": "stdout",
     "output_type": "stream",
     "text": [
      "name=durga\n",
      "rollno=101\n",
      "marks=90\n",
      "gf1=Sunny\n",
      "gf2=Mallika\n"
     ]
    }
   ],
   "source": [
    "def display(**kwargs):\n",
    "    for k,v in kwargs.items():\n",
    "        print('{}={}'.format(k,v))\n",
    "        \n",
    "display(name='durga',rollno=101,marks=90,gf1='Sunny',gf2='Mallika')\n"
   ]
  },
  {
   "cell_type": "code",
   "execution_count": 79,
   "metadata": {},
   "outputs": [
    {
     "name": "stdout",
     "output_type": "stream",
     "text": [
      "(10, 20, 30)\n",
      "name=Durga\n",
      "rollno=101\n",
      "marks=90\n",
      "gf1=Sunny\n",
      "gf2=Mallika\n"
     ]
    }
   ],
   "source": [
    "#The Combination of *kwargs and **kwargs.\n",
    "\n",
    "def display(*args,**kwargs):\n",
    "    print(args)\n",
    "    for k,v in kwargs.items():\n",
    "        print('{}={}'.format(k,v))\n",
    "        \n",
    "display(10,20,30,name='Durga',rollno=101,marks=90,gf1='Sunny',gf2='Mallika')\n",
    "    \n",
    "\n",
    "\n"
   ]
  },
  {
   "cell_type": "code",
   "execution_count": 90,
   "metadata": {},
   "outputs": [
    {
     "ename": "TypeError",
     "evalue": "f1() got an unexpected keyword argument 'arg5'",
     "output_type": "error",
     "traceback": [
      "\u001b[1;31m---------------------------------------------------------------------------\u001b[0m",
      "\u001b[1;31mTypeError\u001b[0m                                 Traceback (most recent call last)",
      "\u001b[1;32m<ipython-input-90-c7ce394076e2>\u001b[0m in \u001b[0;36m<module>\u001b[1;34m\u001b[0m\n\u001b[0;32m     10\u001b[0m \u001b[1;31m#f1(arg3=10,arg4=20,30,40)      #SyntaxError: positional argument follows keyword argument\u001b[0m\u001b[1;33m\u001b[0m\u001b[1;33m\u001b[0m\u001b[1;33m\u001b[0m\u001b[0m\n\u001b[0;32m     11\u001b[0m \u001b[1;31m#f1(4,5,arg2=6)                  #TypeError: f1() got multiple values for argument 'arg2'\u001b[0m\u001b[1;33m\u001b[0m\u001b[1;33m\u001b[0m\u001b[1;33m\u001b[0m\u001b[0m\n\u001b[1;32m---> 12\u001b[1;33m \u001b[0mf1\u001b[0m\u001b[1;33m(\u001b[0m\u001b[1;36m4\u001b[0m\u001b[1;33m,\u001b[0m\u001b[1;36m5\u001b[0m\u001b[1;33m,\u001b[0m\u001b[0marg3\u001b[0m\u001b[1;33m=\u001b[0m\u001b[1;36m5\u001b[0m\u001b[1;33m,\u001b[0m\u001b[0marg5\u001b[0m\u001b[1;33m=\u001b[0m\u001b[1;36m6\u001b[0m\u001b[1;33m)\u001b[0m\u001b[1;33m\u001b[0m\u001b[1;33m\u001b[0m\u001b[0m\n\u001b[0m",
      "\u001b[1;31mTypeError\u001b[0m: f1() got an unexpected keyword argument 'arg5'"
     ]
    }
   ],
   "source": [
    "def f1(arg1,arg2,arg3=4,arg4=8):\n",
    "    print(arg1,arg2,arg3,arg4)\n",
    "\n",
    "\n",
    "#f1(3,2)                           # 3,2,4,8  \n",
    "#f1(10,20,30,40)                   #10,20,30,40\n",
    "#f1(25,50,arg4=100)                #25,50,4,100\n",
    "#f1(arg4=2,arg1=3,arg2=4)          #3,4,4,2\n",
    "#f1()                              #f1() missing 2 required positional arguments: 'arg1' and 'arg2'\n",
    "#f1(arg3=10,arg4=20,30,40)         #SyntaxError: positional argument follows keyword argument\n",
    "#f1(4,5,arg2=6)                    #TypeError: f1() got multiple values for argument 'arg2'\n",
    "#f1(4,5,arg3=5,arg5=6)             #TypeError: f1() got an unexpected keyword argument 'arg5'\n",
    "\n"
   ]
  },
  {
   "cell_type": "code",
   "execution_count": null,
   "metadata": {},
   "outputs": [],
   "source": [
    "Types Of variables:\n",
    "1.Global Variables :These variables are declared outside of a function;These variables are available for all the functions\n",
    "    \n",
    "2.Local variables:These variables declared inside a function,Avilable to that function ONLY.\n"
   ]
  },
  {
   "cell_type": "code",
   "execution_count": 92,
   "metadata": {},
   "outputs": [
    {
     "name": "stdout",
     "output_type": "stream",
     "text": [
      "10\n",
      "10\n"
     ]
    }
   ],
   "source": [
    "# Global Variables:\n",
    "\n",
    "a=10   # This is global Variable\n",
    "\n",
    "def f1():\n",
    "    print(a)\n",
    "    \n",
    "def f2():\n",
    "    print(a)\n",
    "\n",
    "f1()\n",
    "f2()\n",
    "    "
   ]
  },
  {
   "cell_type": "code",
   "execution_count": 94,
   "metadata": {},
   "outputs": [
    {
     "name": "stdout",
     "output_type": "stream",
     "text": [
      "10\n",
      "10\n"
     ]
    }
   ],
   "source": [
    "# local Variables:\n",
    "\n",
    "def f1():\n",
    "    a=10\n",
    "    print(a)\n",
    "def f2():\n",
    "    print(a)\n",
    "    \n",
    "f1() \n",
    "f2()\n"
   ]
  },
  {
   "cell_type": "code",
   "execution_count": 95,
   "metadata": {},
   "outputs": [
    {
     "name": "stdout",
     "output_type": "stream",
     "text": [
      "777\n",
      "10\n"
     ]
    }
   ],
   "source": [
    "a=10    #Global Variable\n",
    "\n",
    "def f1():\n",
    "    a=777   #Local Variable\n",
    "    print(a)\n",
    "def f2():\n",
    "    print(a)\n",
    "    \n",
    "f1()\n",
    "f2()\n"
   ]
  },
  {
   "cell_type": "code",
   "execution_count": 97,
   "metadata": {},
   "outputs": [
    {
     "name": "stdout",
     "output_type": "stream",
     "text": [
      "777\n",
      "777\n"
     ]
    }
   ],
   "source": [
    "# To make global varibale to  a function:\n",
    "a=10\n",
    "def f1():\n",
    "    global a    #To make global variable available to f1().\n",
    "    a=777\n",
    "    print(a)\n",
    "def f2():\n",
    "    print(a)\n",
    "    \n",
    "f1()\n",
    "f2()"
   ]
  },
  {
   "cell_type": "code",
   "execution_count": 99,
   "metadata": {},
   "outputs": [
    {
     "name": "stdout",
     "output_type": "stream",
     "text": [
      "10\n",
      "10\n"
     ]
    }
   ],
   "source": [
    "def f1():\n",
    "    global a    #Now onwards its global variable and not local\n",
    "    a=10\n",
    "    print(a)\n",
    "def f2():\n",
    "    print(a)\n",
    "    \n",
    "f1()\n",
    "f2()"
   ]
  },
  {
   "cell_type": "code",
   "execution_count": 100,
   "metadata": {},
   "outputs": [
    {
     "name": "stdout",
     "output_type": "stream",
     "text": [
      "10\n",
      "777\n",
      "777\n"
     ]
    }
   ],
   "source": [
    "def f1():\n",
    "    global a    #Now onwards its global variable and not local\n",
    "    a=10\n",
    "    print(a)\n",
    "def f2():\n",
    "    global a\n",
    "    a=777\n",
    "    print(a)\n",
    "    \n",
    "f1()\n",
    "f2()\n",
    "print(a)"
   ]
  },
  {
   "cell_type": "code",
   "execution_count": 102,
   "metadata": {},
   "outputs": [
    {
     "name": "stdout",
     "output_type": "stream",
     "text": [
      "Local Variable value: 777\n",
      "Global variable value: 10\n",
      "Global variable value: 10\n"
     ]
    }
   ],
   "source": [
    "a=10\n",
    "def f1():\n",
    "    a=777\n",
    "    print('Local Variable value:',a)\n",
    "    # How to print global variable value of a  \n",
    "    print('Global variable value:',globals()['a'])\n",
    "    print('Global variable value:',globals().get('a'))\n",
    "    \n",
    "f1()"
   ]
  },
  {
   "cell_type": "code",
   "execution_count": null,
   "metadata": {},
   "outputs": [],
   "source": [
    "Recursive Functions:\n",
    "    \n",
    "The function that calls itself is known as recursive functions.\n",
    "Advantges:1>The length of the code is reduced.\n",
    "          2>Very Complex problem can be solved easily.\n",
    "    "
   ]
  },
  {
   "cell_type": "code",
   "execution_count": 104,
   "metadata": {},
   "outputs": [
    {
     "name": "stdout",
     "output_type": "stream",
     "text": [
      "Factorial of 5 is: 120\n"
     ]
    }
   ],
   "source": [
    "# Q: WAP to Find the factorial of a number:\n",
    "\n",
    "def factorial(n):\n",
    "    if n==0:\n",
    "        result=1\n",
    "    else:\n",
    "        result=n*factorial(n-1)\n",
    "    return(result)\n",
    "print('Factorial of 5 is:',factorial(5))\n",
    "\n",
    "# results related to factorial of 5 =5*factorial(4)\n",
    "# results related to factorial of 4 =4*factorial(3)\n",
    "# results related to factorial of 3 =3*factorial(2)\n",
    "# results related to factorial of 2 =2*factorial(1)\n",
    "# results related to factorial of 1 =1*factorial(0)\n",
    "\n"
   ]
  },
  {
   "cell_type": "code",
   "execution_count": 116,
   "metadata": {},
   "outputs": [
    {
     "name": "stdout",
     "output_type": "stream",
     "text": [
      "Finding Factorial of : 5\n",
      "Finding Factorial of : 4\n",
      "Finding Factorial of : 3\n",
      "Finding Factorial of : 2\n",
      "Finding Factorial of : 1\n",
      "Finding Factorial of : 0\n",
      "completion Of Finding Factorial of 0 and result is 1\n",
      "completion Of Finding Factorial of 1 and result is 1\n",
      "completion Of Finding Factorial of 2 and result is 2\n",
      "completion Of Finding Factorial of 3 and result is 6\n",
      "completion Of Finding Factorial of 4 and result is 24\n",
      "completion Of Finding Factorial of 5 and result is 120\n",
      "Factorial of 5 is: 120\n"
     ]
    }
   ],
   "source": [
    "def factorial(n):\n",
    "    print('Finding Factorial of :',n)\n",
    "    if n==0:\n",
    "        result=1\n",
    "    else:\n",
    "        result=n*factorial(n-1)\n",
    "    print('completion Of Finding Factorial of {} and result is {}'.format(n,result))\n",
    "    return result\n",
    "print('Factorial of 5 is:',factorial(5))\n",
    "\n",
    "\n",
    "#result= 5*factorial(4)\n",
    "#factorial(4)=4*factorial(3)\n",
    "#factorial(3)=3*factorial(2)\n",
    "#factorial(2)=2*factorial(1)\n",
    "#factorial(1)=1*factorials(0)"
   ]
  },
  {
   "cell_type": "code",
   "execution_count": 5,
   "metadata": {},
   "outputs": [
    {
     "name": "stdout",
     "output_type": "stream",
     "text": [
      "0\n",
      "1\n",
      "1\n",
      "2\n",
      "3\n",
      "5\n",
      "8\n",
      "13\n",
      "21\n",
      "34\n"
     ]
    }
   ],
   "source": [
    "# Q Find the Fibonanci Number 10:\n",
    "\n",
    "def fib(n):\n",
    "    if n==0:\n",
    "        return 0\n",
    "    elif n==1 or n==2:\n",
    "        return 1\n",
    "    else:\n",
    "        return fib(n-1)+fib(n-2)\n",
    "for i in range (10):\n",
    "    print(fib(i))\n",
    "\n",
    "\n"
   ]
  },
  {
   "cell_type": "code",
   "execution_count": null,
   "metadata": {},
   "outputs": [],
   "source": [
    "Annonymous/Lamda Functions:\n",
    "    \n",
    "Lamda function is a nameless function.\n",
    "\n",
    "We need to use lamda keyword in this function.\n",
    "\n",
    "Consize code.\n",
    "\n",
    "Multiple line isn't possible ;It's always single line only.\n",
    "\n",
    "When we can pass a function as an argument to another function,then lambda is the best choice. \n",
    "\n",
    "syntax:lambda argument_list:expression\n",
    "        \n",
    "        "
   ]
  },
  {
   "cell_type": "code",
   "execution_count": 9,
   "metadata": {},
   "outputs": [
    {
     "name": "stdout",
     "output_type": "stream",
     "text": [
      "The square of 4 is : 16\n",
      "The square of 10 is : 100\n"
     ]
    }
   ],
   "source": [
    "# WAP using lambda function to Find the square of numbers:\n",
    "\n",
    "s=lambda n:n*n\n",
    "print('The square of 4 is :',s(4))\n",
    "print('The square of 10 is :',s(10))\n",
    "\n",
    "    \n"
   ]
  },
  {
   "cell_type": "code",
   "execution_count": 11,
   "metadata": {},
   "outputs": [
    {
     "name": "stdout",
     "output_type": "stream",
     "text": [
      "The sum of 123 and 456: 579\n",
      "The sum of 456 and 789: 1245\n"
     ]
    }
   ],
   "source": [
    "# WAP using lambda function to Find the sun of two numbers:\n",
    "\n",
    "s=lambda a,b:a+b\n",
    "print('The sum of 123 and 456:' ,s(123,456))\n",
    "print('The sum of 456 and 789:' ,s(456,789))"
   ]
  },
  {
   "cell_type": "code",
   "execution_count": 13,
   "metadata": {},
   "outputs": [
    {
     "name": "stdout",
     "output_type": "stream",
     "text": [
      "The largest among 100,1000: 1000\n",
      "The largest among 99999,10000: 99999\n"
     ]
    }
   ],
   "source": [
    "# WAP using lambda function to Find the larget of 2 numbers:\n",
    "\n",
    "s=lambda a,b:a if a>b else b\n",
    "print('The largest among 100,1000:',s(10,1000))\n",
    "print('The largest among 99999,10000:',s(99999,10000))"
   ]
  },
  {
   "cell_type": "code",
   "execution_count": 14,
   "metadata": {},
   "outputs": [
    {
     "name": "stdout",
     "output_type": "stream",
     "text": [
      "The largest among 10,20,30: 30\n",
      "The largest among 20,50,80: 80\n"
     ]
    }
   ],
   "source": [
    "# WAP using lambda function to Find the larget of 3 numbers:\n",
    "\n",
    "s=lambda a,b,c:a if a>b and a>c else b if b>c else c\n",
    "print('The largest among 10,20,30:',s(10,20,30))\n",
    "print('The largest among 20,50,80:',s(20,50,80))"
   ]
  },
  {
   "cell_type": "code",
   "execution_count": null,
   "metadata": {},
   "outputs": [],
   "source": [
    "# Concepts Of 1.Filter(),2.map()3.reduce\n",
    "\n",
    "Filter()---10 values,filter top 3 values.\n",
    "10 Values ,filter only even numbers.\n",
    "\n",
    "syntax:filter(function,sequence)\n",
    "    \n",
    "# The filter function always expect a bool values.\n",
    "    \n"
   ]
  },
  {
   "cell_type": "code",
   "execution_count": 1,
   "metadata": {},
   "outputs": [
    {
     "name": "stdout",
     "output_type": "stream",
     "text": [
      "[0, 10, 20]\n"
     ]
    }
   ],
   "source": [
    "# WAP to find out the even numbers from a given sequence.\n",
    "\n",
    "def is_even(n):\n",
    "    if n%2==0:\n",
    "        return True\n",
    "    else:\n",
    "        return False\n",
    "l=[0,5,10,15,20,25]\n",
    "output=list(filter(is_even,l))\n",
    "print(output)\n",
    "    "
   ]
  },
  {
   "cell_type": "code",
   "execution_count": 2,
   "metadata": {},
   "outputs": [
    {
     "name": "stdout",
     "output_type": "stream",
     "text": [
      "[0, 10, 20]\n",
      "[5, 15, 25]\n"
     ]
    }
   ],
   "source": [
    "# With the help of lambda function()\n",
    "\n",
    "l=[0,5,10,15,20,25]\n",
    "evens=list(filter(lambda n:n%2==0,l))\n",
    "odds=list(filter(lambda n:n%2!=0,l))\n",
    "\n",
    "print(evens)\n",
    "print(odds)"
   ]
  },
  {
   "cell_type": "code",
   "execution_count": 4,
   "metadata": {},
   "outputs": [
    {
     "name": "stdout",
     "output_type": "stream",
     "text": [
      "('AA', 'AAA', 'AAAA', 'AAAAA', 'AAAAAA')\n"
     ]
    }
   ],
   "source": [
    "# WAP to find the length of the string greater than 2.\n",
    "\n",
    "t=('A','AA','AAA','AAAA','AAAAA','AAAAAA')\n",
    "\n",
    "#To return all strings where length is >=2\n",
    "output=tuple(filter(lambda s:len(s)>=2,t))\n",
    "print(output)\n"
   ]
  },
  {
   "cell_type": "code",
   "execution_count": 19,
   "metadata": {},
   "outputs": [
    {
     "name": "stdout",
     "output_type": "stream",
     "text": [
      "Durga\n",
      "Kiran\n"
     ]
    }
   ],
   "source": [
    "# WAP to list the employees objects ,list out all employees who can go pub.\n",
    "\n",
    "#Condition his salary should be >10000,he has a gf and his age is >21\n",
    "\n",
    "class Employee:\n",
    "    def __init__(self,name,sal,age,has_gf):\n",
    "        self.name=name\n",
    "        self.sal=sal\n",
    "        self.age=age\n",
    "        self.has_gf=has_gf\n",
    "    def display(self):\n",
    "        print(self.name)\n",
    "        #return self.name\n",
    "\n",
    "e1=Employee('Durga',20000,60,True)\n",
    "e2=Employee('Ravi',4000,23,True)\n",
    "e3=Employee('Shiva',20000,60,False)\n",
    "e4=Employee('Pavan',15000,20,True)\n",
    "e5=Employee('Kiran',50000,60,True)\n",
    "\n",
    "l=[e1,e2,e3,e4,e5]\n",
    "\n",
    "#Condition is salary >10,000,has gf and age>21.\n",
    "output=filter(lambda e:e.sal >10000 and e.age >21 and e.has_gf,l)\n",
    "for e in output:\n",
    "    e.display()\n"
   ]
  },
  {
   "cell_type": "code",
   "execution_count": 21,
   "metadata": {},
   "outputs": [
    {
     "name": "stdout",
     "output_type": "stream",
     "text": [
      "Employees eligible for bonus:\n",
      "Ravi\n"
     ]
    }
   ],
   "source": [
    "class Employee:\n",
    "    def __init__(self,name,sal,age,has_gf):\n",
    "        self.name=name\n",
    "        self.sal=sal\n",
    "        self.age=age\n",
    "        self.has_gf=has_gf\n",
    "    def display(self):\n",
    "        print(self.name)\n",
    "        #return self.name\n",
    "\n",
    "e1=Employee('Durga',20000,60,True)\n",
    "e2=Employee('Ravi',4000,23,True)\n",
    "e3=Employee('Shiva',20000,60,False)\n",
    "e4=Employee('Pavan',15000,20,True)\n",
    "e5=Employee('Kiran',50000,60,True)\n",
    "\n",
    "l=[e1,e2,e3,e4,e5]\n",
    "\n",
    "# Condition2:Employees eligible for bonus if his salary is <10000 or >50000\n",
    "output=filter(lambda e:e.sal < 10000 or e.sal > 50000,l)\n",
    "print('Employees eligible for bonus:')\n",
    "for e in output:\n",
    "    e.display()\n"
   ]
  },
  {
   "cell_type": "code",
   "execution_count": 22,
   "metadata": {},
   "outputs": [
    {
     "name": "stdout",
     "output_type": "stream",
     "text": [
      "Employees who are going to pub are not eligible for bonus:\n",
      "Durga\n",
      "Kiran\n"
     ]
    }
   ],
   "source": [
    "class Employee:\n",
    "    def __init__(self,name,sal,age,has_gf):\n",
    "        self.name=name\n",
    "        self.sal=sal\n",
    "        self.age=age\n",
    "        self.has_gf=has_gf\n",
    "    def display(self):\n",
    "        print(self.name)\n",
    "        #return self.name\n",
    "\n",
    "e1=Employee('Durga',20000,60,True)\n",
    "e2=Employee('Ravi',4000,23,True)\n",
    "e3=Employee('Shiva',20000,60,False)\n",
    "e4=Employee('Pavan',15000,20,True)\n",
    "e5=Employee('Kiran',50000,60,True)\n",
    "\n",
    "l=[e1,e2,e3,e4,e5]\n",
    "\n",
    "\n",
    "# Condition3:Employees who are going to pub aren't applicable for bonus.\n",
    "\n",
    "output=filter(lambda e:(e.sal > 10000 and e.age > 21 and e.has_gf) and not(e.sal < 10000 or e.sal > 50000),l)\n",
    "print('Employees who are going to pub are not eligible for bonus:')\n",
    "for e in output:\n",
    "    e.display()\n"
   ]
  },
  {
   "cell_type": "code",
   "execution_count": 28,
   "metadata": {},
   "outputs": [
    {
     "name": "stdout",
     "output_type": "stream",
     "text": [
      "Employees who are going to pub are not eligible for bonus:\n",
      "Durga ____ 30000\n",
      "Ravi ____ 14000\n",
      "Shiva ____ 30000\n",
      "Pavan ____ 25000\n",
      "Kiran ____ 60000\n",
      "Teja ____ 70000\n"
     ]
    }
   ],
   "source": [
    "class Employee:\n",
    "    def __init__(self,name,sal,age,has_gf):\n",
    "        self.name=name\n",
    "        self.sal=sal\n",
    "        self.age=age\n",
    "        self.has_gf=has_gf\n",
    "    def display(self):\n",
    "        print(self.name)\n",
    "        #return self.name\n",
    "\n",
    "e1=Employee('Durga',20000,60,True)\n",
    "e2=Employee('Ravi',4000,23,True)\n",
    "e3=Employee('Shiva',20000,60,False)\n",
    "e4=Employee('Pavan',15000,20,True)\n",
    "e5=Employee('Kiran',50000,60,True)\n",
    "e6=Employee('Teja',60000,22,True)\n",
    "l=[e1,e2,e3,e4,e5,e6]\n",
    "\n",
    "\n",
    "# Condition4: Add an employee and Increment the salary of each employee by 10,000\n",
    "\n",
    "output=map(lambda e:Employee(e.name,e.sal+10000,e.age,e.has_gf),l)\n",
    "print('Employees who are going to pub are not eligible for bonus:')\n",
    "for e in output:\n",
    "    print(e.name,'____',e.sal)"
   ]
  },
  {
   "cell_type": "code",
   "execution_count": null,
   "metadata": {},
   "outputs": [],
   "source": [
    "# map(): Input=10 elements and  Output=10 elements or less.\n",
    "\n",
    "# for each input value,generate an output value based on some operations.\n",
    "\n",
    "syntax=map(function,sequence)\n",
    "\n",
    "        "
   ]
  },
  {
   "cell_type": "code",
   "execution_count": 23,
   "metadata": {},
   "outputs": [
    {
     "name": "stdout",
     "output_type": "stream",
     "text": [
      "[100, 400, 900, 1600, 2500]\n"
     ]
    }
   ],
   "source": [
    "# WAP to find the square of a given sequence of  number with the help of map() function:\n",
    "\n",
    "# Without Lambda Function:\n",
    "\n",
    "def squareIt(n):\n",
    "    return n*n\n",
    "\n",
    "l=[10,20,30,40,50]\n",
    "output=list(map(squareIt,l))\n",
    "print(output)\n",
    "\n",
    "\n"
   ]
  },
  {
   "cell_type": "code",
   "execution_count": 24,
   "metadata": {},
   "outputs": [
    {
     "name": "stdout",
     "output_type": "stream",
     "text": [
      "[100, 400, 900, 1600, 2500]\n"
     ]
    }
   ],
   "source": [
    "#With lambda Function:\n",
    "l=[10,20,30,40,50]\n",
    "output=list(map(lambda n:n*n,l))\n",
    "print(output)"
   ]
  },
  {
   "cell_type": "code",
   "execution_count": 25,
   "metadata": {},
   "outputs": [
    {
     "name": "stdout",
     "output_type": "stream",
     "text": [
      "<map object at 0x0000024928D8AA00>\n"
     ]
    }
   ],
   "source": [
    "l=[10,20,30,40,50]\n",
    "output=(map(lambda n:n*n,l))  #if list is not typecasted ,then output will return map object.\n",
    "print(output)"
   ]
  },
  {
   "cell_type": "code",
   "execution_count": 26,
   "metadata": {},
   "outputs": [
    {
     "name": "stdout",
     "output_type": "stream",
     "text": [
      "100\n",
      "400\n",
      "900\n",
      "1600\n",
      "2500\n"
     ]
    }
   ],
   "source": [
    "l=[10,20,30,40,50]\n",
    "output=(map(lambda n:n*n,l))\n",
    "for x in output:\n",
    "    print(x)\n"
   ]
  },
  {
   "cell_type": "code",
   "execution_count": null,
   "metadata": {},
   "outputs": [],
   "source": []
  },
  {
   "cell_type": "code",
   "execution_count": null,
   "metadata": {},
   "outputs": [],
   "source": []
  },
  {
   "cell_type": "code",
   "execution_count": null,
   "metadata": {},
   "outputs": [],
   "source": []
  }
 ],
 "metadata": {
  "kernelspec": {
   "display_name": "Python 3",
   "language": "python",
   "name": "python3"
  },
  "language_info": {
   "codemirror_mode": {
    "name": "ipython",
    "version": 3
   },
   "file_extension": ".py",
   "mimetype": "text/x-python",
   "name": "python",
   "nbconvert_exporter": "python",
   "pygments_lexer": "ipython3",
   "version": "3.8.3"
  }
 },
 "nbformat": 4,
 "nbformat_minor": 4
}
