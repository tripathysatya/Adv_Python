{
 "cells": [
  {
   "cell_type": "code",
   "execution_count": null,
   "metadata": {},
   "outputs": [],
   "source": [
    "The Concepts Of Functions:\n",
    "    \n",
    "Its runs on DRY principle means DONT REPEAT YOUR CODE.\n",
    "\n",
    "# The Biggest advantage of usiing the function is reusabilty of code.\n",
    "\n",
    "Types Of Functions:\n",
    "    \n",
    "1.Built-in/Pre-defined Functions:\n",
    "2.User Defined Functions.\n",
    "\n",
    "1>Pre Defined Functions are:\n",
    "id(),print(),input(),eval(),len()....etc\n",
    "\n",
    "2>User-defined functions:\n",
    "Syntax:\n",
    "    def funtion_name(parameters)\n",
    "    ''' '''\n",
    "    business logic_1\n",
    "    business logic_2\n",
    "    return\n",
    "\n",
    "def and return are the keywords in a function.\n",
    "\n",
    "def is a mandatory keyword ,whereas return is optional.\n",
    "\n",
    "Parameters: This is nothing but inputs to the functions.\n",
    "\n",
    "If a function has parameters during the definition ,then its COMPULSORY to pass the arguments while calling it."
   ]
  },
  {
   "cell_type": "code",
   "execution_count": 1,
   "metadata": {},
   "outputs": [
    {
     "name": "stdout",
     "output_type": "stream",
     "text": [
      "The Sum is : 30\n",
      "The product is : 200\n",
      "The difference is: 10\n",
      "The Devident is : 2.0\n",
      "The Sum is : 300\n",
      "The product is : 20000\n",
      "The difference is: 100\n",
      "The Devident is : 2.0\n",
      "The Sum is : 3000\n",
      "The product is : 2000000\n",
      "The difference is: 1000\n",
      "The Devident is : 2.0\n"
     ]
    }
   ],
   "source": [
    "def calc(a,b):\n",
    "    print('The Sum is :',a+b)\n",
    "    print('The product is :',a*b)\n",
    "    print('The difference is:',a-b)\n",
    "    print('The Devident is :',a/b)\n",
    "\n",
    "calc(20,10)\n",
    "calc(200,100)\n",
    "calc(2000,1000)\n"
   ]
  },
  {
   "cell_type": "code",
   "execution_count": 6,
   "metadata": {},
   "outputs": [
    {
     "name": "stdout",
     "output_type": "stream",
     "text": [
      "Hi satya, How are you doing\n"
     ]
    }
   ],
   "source": [
    "#WAP to take student name and print a greeting message by entering their names.\n",
    "\n",
    "\n",
    "def wishing(name):\n",
    "    print('Hi {}, How are you doing'.format(name))\n",
    "    \n",
    "wishing('satya')\n",
    "\n",
    "\n"
   ]
  },
  {
   "cell_type": "code",
   "execution_count": 8,
   "metadata": {},
   "outputs": [
    {
     "name": "stdout",
     "output_type": "stream",
     "text": [
      "Enter the nameDurga\n",
      "Hi Durga, How are you doing\n"
     ]
    }
   ],
   "source": [
    "# With Dynamic Input:\n",
    "\n",
    "def wishing(name):\n",
    "    print('Hi {}, How are you doing'.format(name))\n",
    "    \n",
    "name=input('Enter the name')\n",
    "wishing(name)"
   ]
  },
  {
   "cell_type": "code",
   "execution_count": 9,
   "metadata": {},
   "outputs": [
    {
     "name": "stdout",
     "output_type": "stream",
     "text": [
      "The Square of 4 is : 16\n",
      "The Square of 10 is : 100\n",
      "The Square of 16 is : 256\n"
     ]
    }
   ],
   "source": [
    "# WAP to take int values as input and print the respective square values.\n",
    "\n",
    "def squareIT(number):\n",
    "    print('The Square of {} is : {}'.format(number,number**2))\n",
    "\n",
    "\n",
    "squareIT(4)\n",
    "squareIT(10)\n",
    "squareIT(16)"
   ]
  },
  {
   "cell_type": "code",
   "execution_count": 15,
   "metadata": {},
   "outputs": [
    {
     "name": "stdout",
     "output_type": "stream",
     "text": [
      "The sum of 10 and 20 is : 30\n"
     ]
    }
   ],
   "source": [
    "# WAP to take int values as input and print the respective sum values.\n",
    "\n",
    "def add(x,y):\n",
    "    print('The sum of {} and {} is : {}'.format(x,y,x+y))\n",
    "\n",
    "\n",
    "add(10,20)\n"
   ]
  },
  {
   "cell_type": "code",
   "execution_count": null,
   "metadata": {},
   "outputs": [],
   "source": [
    "Paremeters-------->Functions----------->return (output)"
   ]
  },
  {
   "cell_type": "code",
   "execution_count": 17,
   "metadata": {},
   "outputs": [
    {
     "name": "stdout",
     "output_type": "stream",
     "text": [
      "The sum is : 30\n"
     ]
    }
   ],
   "source": [
    "#With The return statement:\n",
    "\n",
    "def add(x,y):\n",
    "    return x+y\n",
    "\n",
    "result=add(10,20)\n",
    "print('The sum is :',result)\n",
    "\n"
   ]
  },
  {
   "cell_type": "code",
   "execution_count": 19,
   "metadata": {},
   "outputs": [
    {
     "name": "stdout",
     "output_type": "stream",
     "text": [
      "calling add function...\n",
      "30\n"
     ]
    }
   ],
   "source": [
    "def add(x,y):\n",
    "    print('calling add function...')\n",
    "    return x+y\n",
    "\n",
    "result=add(10,20) #Return has default value of None if we dont passing any arguments in return\n",
    "print(result)\n"
   ]
  },
  {
   "cell_type": "code",
   "execution_count": 21,
   "metadata": {},
   "outputs": [
    {
     "name": "stdout",
     "output_type": "stream",
     "text": [
      "Hello\n",
      "None\n"
     ]
    }
   ],
   "source": [
    "def f1():\n",
    "    print('Hello')\n",
    "    \n",
    "result=f1() \n",
    "print(result)"
   ]
  },
  {
   "cell_type": "code",
   "execution_count": 23,
   "metadata": {},
   "outputs": [
    {
     "name": "stdout",
     "output_type": "stream",
     "text": [
      "Enter Some Number To Check:10\n",
      "it is an even number\n"
     ]
    }
   ],
   "source": [
    "# WAF to check given no even or odd.\n",
    "\n",
    "def even_odd(x):\n",
    "    if x%2==0:\n",
    "        print('it is an even number')\n",
    "    else:\n",
    "        print('it is odd number')\n",
    "\n",
    "even_odd(int(input('Enter Some Number To Check:')))\n",
    "    "
   ]
  },
  {
   "cell_type": "code",
   "execution_count": 24,
   "metadata": {},
   "outputs": [
    {
     "name": "stdout",
     "output_type": "stream",
     "text": [
      "it is an even number\n",
      "None\n"
     ]
    }
   ],
   "source": [
    "def even_odd(x):\n",
    "    if x%2==0:\n",
    "        print('it is an even number')\n",
    "    else:\n",
    "        print('it is odd number')\n",
    "\n",
    "result=even_odd(10)\n",
    "print(result)"
   ]
  },
  {
   "cell_type": "code",
   "execution_count": 25,
   "metadata": {},
   "outputs": [
    {
     "name": "stdout",
     "output_type": "stream",
     "text": [
      "d\n",
      "u\n",
      "r\n",
      "g\n",
      "a\n",
      "1\n",
      "2\n",
      "3\n",
      "4\n",
      "5\n",
      "6\n",
      "7\n",
      "8\n",
      "9\n",
      "10\n",
      "11\n",
      "12\n",
      "13\n",
      "14\n",
      "15\n"
     ]
    }
   ],
   "source": [
    "def show(sequence):\n",
    "    for x in sequence:\n",
    "        print(x)\n",
    "\n",
    "show('durga')\n",
    "show(range(1,16))"
   ]
  },
  {
   "cell_type": "code",
   "execution_count": 28,
   "metadata": {},
   "outputs": [
    {
     "name": "stdout",
     "output_type": "stream",
     "text": [
      "The Factorial of 1 is 1\n",
      "The Factorial of 2 is 2\n",
      "The Factorial of 3 is 6\n",
      "The Factorial of 4 is 24\n",
      "The Factorial of 5 is 120\n",
      "The Factorial of 6 is 720\n",
      "The Factorial of 7 is 5040\n",
      "The Factorial of 8 is 40320\n",
      "The Factorial of 9 is 362880\n",
      "The Factorial of 10 is 3628800\n"
     ]
    }
   ],
   "source": [
    "# WAF to find the factorial of a given number:\n",
    "\n",
    "def factorial(n):\n",
    "    result=1\n",
    "    while n>1:\n",
    "        result=result*n\n",
    "        n=n-1\n",
    "    return result\n",
    "for i in range (1,11):\n",
    "    print('The Factorial of {} is {}'.format(i,factorial(i)))"
   ]
  },
  {
   "cell_type": "code",
   "execution_count": 29,
   "metadata": {},
   "outputs": [
    {
     "name": "stdout",
     "output_type": "stream",
     "text": [
      "The Factorial of 0 is 1\n",
      "The Factorial of 1 is 1\n",
      "The Factorial of 1 is 2\n",
      "The Factorial of 1 is 6\n",
      "The Factorial of 1 is 24\n",
      "The Factorial of 1 is 120\n",
      "The Factorial of 1 is 720\n",
      "The Factorial of 1 is 5040\n",
      "The Factorial of 1 is 40320\n",
      "The Factorial of 1 is 362880\n",
      "The Factorial of 1 is 3628800\n"
     ]
    }
   ],
   "source": [
    "def factorial(n):\n",
    "    result=1\n",
    "    while n>1:\n",
    "        result=result*n\n",
    "        n=n-1\n",
    "    print('The Factorial of {} is {}'.format(n,result))\n",
    "for i in range (11):\n",
    "    factorial(i)"
   ]
  },
  {
   "cell_type": "code",
   "execution_count": null,
   "metadata": {},
   "outputs": [],
   "source": [
    "Multiple return statements:\n"
   ]
  },
  {
   "cell_type": "code",
   "execution_count": 32,
   "metadata": {},
   "outputs": [
    {
     "name": "stdout",
     "output_type": "stream",
     "text": [
      "The Sum is : 30\n",
      "The Difference is : 10\n"
     ]
    }
   ],
   "source": [
    "def calc(a,b):\n",
    "    sum=a+b\n",
    "    sub=a-b\n",
    "    return sum,sub\n",
    "\n",
    "x,y=calc(20,10)\n",
    "print('The Sum is :',x)\n",
    "print('The Difference is :',y)\n",
    "    \n"
   ]
  },
  {
   "cell_type": "code",
   "execution_count": 33,
   "metadata": {},
   "outputs": [
    {
     "name": "stdout",
     "output_type": "stream",
     "text": [
      "<class 'tuple'>\n"
     ]
    }
   ],
   "source": [
    "def calc(a,b):\n",
    "    sum=a+b\n",
    "    sub=a-b\n",
    "    return sum,sub\n",
    "\n",
    "t=calc(20,10)\n",
    "print(type(t))\n"
   ]
  },
  {
   "cell_type": "code",
   "execution_count": 34,
   "metadata": {},
   "outputs": [
    {
     "name": "stdout",
     "output_type": "stream",
     "text": [
      "The results are:\n",
      "30\n",
      "10\n",
      "200\n",
      "2.0\n"
     ]
    }
   ],
   "source": [
    "def calculation(a,b):\n",
    "    sum=a+b\n",
    "    subtraction=a-b\n",
    "    multiplication=a*b\n",
    "    division=a/b\n",
    "    return sum,subtraction,multiplication,division\n",
    "\n",
    "t=calculation(20,10)\n",
    "print('The results are:')\n",
    "for x in t:\n",
    "    print(x)\n",
    "\n",
    "\n"
   ]
  },
  {
   "cell_type": "code",
   "execution_count": null,
   "metadata": {},
   "outputs": [],
   "source": []
  }
 ],
 "metadata": {
  "kernelspec": {
   "display_name": "Python 3",
   "language": "python",
   "name": "python3"
  },
  "language_info": {
   "codemirror_mode": {
    "name": "ipython",
    "version": 3
   },
   "file_extension": ".py",
   "mimetype": "text/x-python",
   "name": "python",
   "nbconvert_exporter": "python",
   "pygments_lexer": "ipython3",
   "version": "3.8.3"
  }
 },
 "nbformat": 4,
 "nbformat_minor": 4
}
