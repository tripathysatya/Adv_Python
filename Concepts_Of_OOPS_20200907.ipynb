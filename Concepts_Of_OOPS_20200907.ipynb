{
 "cells": [
  {
   "cell_type": "markdown",
   "metadata": {},
   "source": [
    "# Object Oriented programming Concepts:\n",
    "1.Classes,2.Objects,3.Reference Variables.\n",
    "\n",
    "Class:A class is a blueprint /Plan/Model/Design for object\n",
    "Object:A Physical existence of the plan.\n",
    "\n"
   ]
  },
  {
   "cell_type": "code",
   "execution_count": null,
   "metadata": {},
   "outputs": [],
   "source": [
    "# How To Define a class?\n",
    "\n",
    "Class nameofclass:\n",
    "    \"\"\" \"\"\"        # doc strings\n",
    "properties(variables)\n",
    "actions(methods)\n",
    "\n",
    "\n",
    "Every  objects have its properties and behaviour\n",
    "Properties(data) are specified by variables.\n",
    "Behaviours can be specified by methods.\n",
    "\n",
    "\n",
    "Type of Variables:\n",
    "    \n",
    "1.Instance variables/Object Level variables.\n",
    "2.Static variables/Class level Variales\n",
    "3.Local Variables/Method level Variables.\n",
    "\n",
    "\n",
    "Types Of Methods;\n",
    "\n",
    "1.Instance Methods.\n",
    "2.Class methods.\n",
    "3.Static Methods.\n",
    "\n",
    "\n",
    "Reference Variables:\n",
    "Reference variables can be used to refer the objects.\n",
    "By using reference variables we can invoke funtionality of the object.\n",
    "For single object ,there may be a chance of multiple reference variables.\n",
    "\n",
    "How To Create an Object in python?\n",
    "\n",
    "reference_variables=class_name()\n"
   ]
  },
  {
   "cell_type": "code",
   "execution_count": 1,
   "metadata": {},
   "outputs": [
    {
     "name": "stdout",
     "output_type": "stream",
     "text": [
      "This class is developed by Satya for demo purpose\n"
     ]
    }
   ],
   "source": [
    "class Student:\n",
    "    '''This class is developed by Satya for demo purpose'''\n",
    "    # Variables(Properties) like name,marks,rollno\n",
    "    # Methods(actions/behaviour) like read,write,eat,talk,sleep\n",
    "print(Student.__doc__)\n"
   ]
  },
  {
   "cell_type": "code",
   "execution_count": 5,
   "metadata": {},
   "outputs": [
    {
     "name": "stdout",
     "output_type": "stream",
     "text": [
      "Satya\n",
      "123\n",
      "95\n",
      "Hello I am Satya\n",
      "My rollno: 123\n",
      "My marks are: 95\n"
     ]
    }
   ],
   "source": [
    "class Student:\n",
    "    def __init__(self):\n",
    "        self.name='Satya'\n",
    "        self.rollno=123\n",
    "        self.marks=95\n",
    "    def talk(self):\n",
    "        print('Hello I am',self.name)\n",
    "        print('My rollno:',self.rollno)\n",
    "        print('My marks are:',self.marks)\n",
    "        \n",
    "s=Student()\n",
    "print(s.name)\n",
    "print(s.rollno)\n",
    "print(s.marks)\n",
    "s.talk()        \n",
    "  \n",
    "    "
   ]
  },
  {
   "cell_type": "code",
   "execution_count": 7,
   "metadata": {},
   "outputs": [
    {
     "name": "stdout",
     "output_type": "stream",
     "text": [
      "Connstructer Execution...\n"
     ]
    }
   ],
   "source": [
    "class Student:\n",
    "    def __init__(self):\n",
    "        print('Connstructer Execution...')\n",
    "        self.name='Satya'\n",
    "        self.rollno=123\n",
    "        self.marks=95\n",
    "    def talk(self):\n",
    "        print('Hello I am',self.name)\n",
    "        print('My rollno:',self.rollno)\n",
    "        print('My marks are:',self.marks)\n",
    " \n",
    "s=Student()\n",
    "        "
   ]
  },
  {
   "cell_type": "code",
   "execution_count": 12,
   "metadata": {},
   "outputs": [
    {
     "name": "stdout",
     "output_type": "stream",
     "text": [
      "Satya\n",
      "Satya\n",
      "Satya\n",
      "2606525627216\n",
      "2606525627504\n",
      "2606524752128\n"
     ]
    }
   ],
   "source": [
    "class Student:\n",
    "    def __init__(self):\n",
    "        self.name='Satya'\n",
    "        self.rollno=123\n",
    "        self.marks=95\n",
    "    def talk(self):\n",
    "        print('Hello I am',self.name)\n",
    "        print('My rollno:',self.rollno)\n",
    "        print('My marks are:',self.marks)\n",
    "        \n",
    "s1=Student()\n",
    "s2=Student()\n",
    "s3=Student()\n",
    "print(s1.name)\n",
    "print(s2.name)\n",
    "print(s3.name)\n",
    "print(id(s1))\n",
    "print(id(s2))\n",
    "print(id(s3))"
   ]
  },
  {
   "cell_type": "code",
   "execution_count": null,
   "metadata": {},
   "outputs": [],
   "source": [
    "For Any Class we can create any number of objects(1 to Many)\n",
    "For any Class we can create any number of reference variables(1 to Many)\n",
    "\n",
    "sudent():\n",
    "Whenever we create an object ,the constructure will be executed automatically and PVM will create object and allocate memory.\n",
    "\n",
    "The PVM will execute __init__() method to declare and initiate variales of that object(Instance variables)\n",
    "\n",
    "s=student()\n",
    "For newly created and already initialized object we aer assigning s as reference variable,by using this reference variable,\n",
    "we can access variables and methods of that object.\n"
   ]
  },
  {
   "cell_type": "code",
   "execution_count": 14,
   "metadata": {},
   "outputs": [
    {
     "name": "stdout",
     "output_type": "stream",
     "text": [
      "Student Name: Satya\n",
      "Student rollno: 123\n",
      "Student Marks: 95\n",
      "Hello I am Satya\n",
      "My rollno: 123\n",
      "My marks are: 95\n"
     ]
    }
   ],
   "source": [
    "class Student:\n",
    "    def __init__(self):\n",
    "        self.name='Satya'\n",
    "        self.rollno=123\n",
    "        self.marks=95\n",
    "    def talk(self):\n",
    "        print('Hello I am',self.name)\n",
    "        print('My rollno:',self.rollno)\n",
    "        print('My marks are:',self.marks)\n",
    "\n",
    "s=Student()\n",
    "print('Student Name:',s.name)\n",
    "print('Student rollno:',s.rollno)\n",
    "print('Student Marks:',s.marks)\n",
    "\n",
    "s.talk()"
   ]
  },
  {
   "cell_type": "code",
   "execution_count": 17,
   "metadata": {},
   "outputs": [
    {
     "name": "stdout",
     "output_type": "stream",
     "text": [
      "Student1: Satya 123 95\n",
      "Student2: Satya 123 95\n"
     ]
    }
   ],
   "source": [
    "class Student:\n",
    "    def __init__(self):\n",
    "        self.name='Satya'\n",
    "        self.rollno=123\n",
    "        self.marks=95\n",
    "    def talk(self):\n",
    "        print('Hello I am',self.name)\n",
    "        print('My rollno:',self.rollno)\n",
    "        print('My marks are:',self.marks)\n",
    "\n",
    "s1=Student()\n",
    "print('Student1:',s1.name,s1.rollno,s1.marks)\n",
    "s2=Student()\n",
    "print('Student2:',s2.name,s2.rollno,s2.marks)"
   ]
  },
  {
   "cell_type": "code",
   "execution_count": 21,
   "metadata": {},
   "outputs": [
    {
     "ename": "TypeError",
     "evalue": "__init__() takes 1 positional argument but 4 were given",
     "output_type": "error",
     "traceback": [
      "\u001b[1;31m---------------------------------------------------------------------------\u001b[0m",
      "\u001b[1;31mTypeError\u001b[0m                                 Traceback (most recent call last)",
      "\u001b[1;32m<ipython-input-21-ddcb74e28e50>\u001b[0m in \u001b[0;36m<module>\u001b[1;34m\u001b[0m\n\u001b[0;32m      9\u001b[0m         \u001b[0mprint\u001b[0m\u001b[1;33m(\u001b[0m\u001b[1;34m'My marks are:'\u001b[0m\u001b[1;33m,\u001b[0m\u001b[0mself\u001b[0m\u001b[1;33m.\u001b[0m\u001b[0mmarks\u001b[0m\u001b[1;33m)\u001b[0m\u001b[1;33m\u001b[0m\u001b[1;33m\u001b[0m\u001b[0m\n\u001b[0;32m     10\u001b[0m \u001b[1;33m\u001b[0m\u001b[0m\n\u001b[1;32m---> 11\u001b[1;33m \u001b[0ms1\u001b[0m\u001b[1;33m=\u001b[0m\u001b[0mStudent\u001b[0m\u001b[1;33m(\u001b[0m\u001b[1;34m'Sunny'\u001b[0m\u001b[1;33m,\u001b[0m\u001b[1;36m1234\u001b[0m\u001b[1;33m,\u001b[0m\u001b[1;36m98\u001b[0m\u001b[1;33m)\u001b[0m\u001b[1;33m\u001b[0m\u001b[1;33m\u001b[0m\u001b[0m\n\u001b[0m",
      "\u001b[1;31mTypeError\u001b[0m: __init__() takes 1 positional argument but 4 were given"
     ]
    }
   ],
   "source": [
    "class Student:\n",
    "    def __init__(self):\n",
    "        self.name='Satya'\n",
    "        self.rollno=123\n",
    "        self.marks=95\n",
    "    def talk(self):\n",
    "        print('Hello I am',self.name)\n",
    "        print('My rollno:',self.rollno)\n",
    "        print('My marks are:',self.marks)\n",
    "\n",
    "s1=Student('Sunny',1234,98)"
   ]
  },
  {
   "cell_type": "code",
   "execution_count": 24,
   "metadata": {},
   "outputs": [],
   "source": [
    "class Student:\n",
    "    def __init__(self,name,rollno,marks):\n",
    "        self.name='Satya'\n",
    "        self.rollno=123\n",
    "        self.marks=95\n",
    "    def talk(self):\n",
    "        print('Hello I am',self.name)\n",
    "        print('My rollno:',self.rollno)\n",
    "        print('My marks are:',self.marks)\n",
    "\n",
    "s1=Student('Sunny',1234,98)\n"
   ]
  },
  {
   "cell_type": "code",
   "execution_count": 28,
   "metadata": {},
   "outputs": [
    {
     "name": "stdout",
     "output_type": "stream",
     "text": [
      "Student1: Sunny 1234 98\n"
     ]
    }
   ],
   "source": [
    "class Student:\n",
    "    def __init__(self,name,rollno,marks):\n",
    "        self.name=name\n",
    "        self.rollno=rollno\n",
    "        self.marks=marks\n",
    "    def talk(self):\n",
    "        print('Hello I am',self.name)\n",
    "        print('My rollno:',self.rollno)\n",
    "        print('My marks are:',self.marks)\n",
    "\n",
    "s1=Student('Sunny',1234,98)\n",
    "print('Student1:',s1.name,s1.rollno,s1.marks)"
   ]
  },
  {
   "cell_type": "code",
   "execution_count": 29,
   "metadata": {},
   "outputs": [
    {
     "name": "stdout",
     "output_type": "stream",
     "text": [
      "Student1: Sunny 1234 98\n"
     ]
    }
   ],
   "source": [
    "class Student:\n",
    "    def __init__(self,x,y,z):\n",
    "        self.name=name=x\n",
    "        self.rollno=rollno=y\n",
    "        self.marks=marks=z\n",
    "    def talk(self):\n",
    "        print('Hello I am',self.name)\n",
    "        print('My rollno:',self.rollno)\n",
    "        print('My marks are:',self.marks)\n",
    "\n",
    "s1=Student('Sunny',1234,98)\n",
    "print('Student1:',s1.name,s1.rollno,s1.marks)"
   ]
  },
  {
   "cell_type": "code",
   "execution_count": 34,
   "metadata": {},
   "outputs": [
    {
     "name": "stdout",
     "output_type": "stream",
     "text": [
      "Student1: Sunny 1234 98\n",
      "Student2: Bunny 12345 97\n"
     ]
    }
   ],
   "source": [
    "class Student:\n",
    "    def __init__(self,name,rollno,marks):\n",
    "        self.name=name\n",
    "        self.rollno=rollno\n",
    "        self.marks=marks\n",
    "    def talk(self):\n",
    "        print('Hello I am',self.name)\n",
    "        print('My rollno:',self.rollno)\n",
    "        print('My marks are:',self.marks)\n",
    "\n",
    "s1=Student('Sunny',1234,98)\n",
    "print('Student1:',s1.name,s1.rollno,s1.marks)\n",
    "\n",
    "s2=Student('Bunny',12345,97)\n",
    "print('Student2:',s2.name,s2.rollno,s2.marks)"
   ]
  },
  {
   "cell_type": "code",
   "execution_count": null,
   "metadata": {},
   "outputs": [],
   "source": [
    "The Complete post-mortem of self variable:\n",
    "    \n",
    "1.self is a reference variable which is always pointing to current object withon the python class ,to access current object we can use \"self\"\n",
    "\n",
    "2.The 1st argument to the constructor is always 'self'.The 1st argument to the instance method is always 'self'.\n",
    "we aren NOT required to provide the value for self ,PVM takes the responsibility to provide its value automatically.\n",
    "\n",
    "3.We can NOT use 'self' within the class only.Inside the constructor we can use Instance Variables(Object related).\n",
    "inside the Instance method we use 'self' to access the value of 'Instance variables'\n",
    "\n",
    "4.'self' is NOT a key-word we can use any name like 'delf','kelf' etc.\n"
   ]
  },
  {
   "cell_type": "code",
   "execution_count": 35,
   "metadata": {},
   "outputs": [
    {
     "name": "stdout",
     "output_type": "stream",
     "text": [
      "Address of Object referred by self: 2606525713616\n",
      "Address of object refferred by t: 2606525713616\n"
     ]
    }
   ],
   "source": [
    "class Test:\n",
    "    def __init__(self):\n",
    "        print('Address of Object referred by self:',id(self))\n",
    "        \n",
    "t=Test()\n",
    "print('Address of object refferred by t:',id(t))"
   ]
  },
  {
   "cell_type": "code",
   "execution_count": 37,
   "metadata": {},
   "outputs": [
    {
     "name": "stdout",
     "output_type": "stream",
     "text": [
      "Hello I am Sunny\n",
      "My rollno: 101\n",
      "My marks are: 90\n",
      "Hello I am Bunny\n",
      "My rollno: 102\n",
      "My marks are: 85\n"
     ]
    }
   ],
   "source": [
    "class Student:\n",
    "    def __init__(self,name,rollno,marks):\n",
    "        self.name=name\n",
    "        self.rollno=rollno\n",
    "        self.marks=marks\n",
    "    def talk(self):\n",
    "        print('Hello I am',self.name)\n",
    "        print('My rollno:',self.rollno)\n",
    "        print('My marks are:',self.marks)\n",
    "\n",
    "s1=Student('Sunny',101,90)\n",
    "s2=Student('Bunny',102,85)\n",
    "s1.talk()\n",
    "s2.talk()"
   ]
  },
  {
   "cell_type": "code",
   "execution_count": 38,
   "metadata": {},
   "outputs": [
    {
     "name": "stdout",
     "output_type": "stream",
     "text": [
      "Constructor\n",
      "method\n"
     ]
    }
   ],
   "source": [
    "class Test:\n",
    "    def __init__(self):\n",
    "        print('Constructor')\n",
    "        \n",
    "    def m1(self,x):          #This is called as Instance Method. \n",
    "        print('method')\n",
    "        \n",
    "t=Test()\n",
    "t.m1(10)\n",
    "    "
   ]
  },
  {
   "cell_type": "code",
   "execution_count": 58,
   "metadata": {},
   "outputs": [
    {
     "ename": "TypeError",
     "evalue": "__init__() got multiple values for argument 'x'",
     "output_type": "error",
     "traceback": [
      "\u001b[1;31m---------------------------------------------------------------------------\u001b[0m",
      "\u001b[1;31mTypeError\u001b[0m                                 Traceback (most recent call last)",
      "\u001b[1;32m<ipython-input-58-3c8883439108>\u001b[0m in \u001b[0;36m<module>\u001b[1;34m\u001b[0m\n\u001b[0;32m      4\u001b[0m \u001b[1;33m\u001b[0m\u001b[0m\n\u001b[0;32m      5\u001b[0m \u001b[1;33m\u001b[0m\u001b[0m\n\u001b[1;32m----> 6\u001b[1;33m \u001b[0mt\u001b[0m\u001b[1;33m=\u001b[0m\u001b[0mTest\u001b[0m\u001b[1;33m(\u001b[0m\u001b[0mx\u001b[0m\u001b[1;33m=\u001b[0m\u001b[1;36m10\u001b[0m\u001b[1;33m)\u001b[0m\u001b[1;33m\u001b[0m\u001b[1;33m\u001b[0m\u001b[0m\n\u001b[0m\u001b[0;32m      7\u001b[0m \u001b[1;31m#t=Test(10)     # __init__() takes 1 positional argument but 2 were given\u001b[0m\u001b[1;33m\u001b[0m\u001b[1;33m\u001b[0m\u001b[1;33m\u001b[0m\u001b[0m\n",
      "\u001b[1;31mTypeError\u001b[0m: __init__() got multiple values for argument 'x'"
     ]
    }
   ],
   "source": [
    "class Test:\n",
    "    def __init__(x):\n",
    "        print('Constructor')\n",
    "        \n",
    "\n",
    "t=Test(x=10)    #__init__() got multiple values for argument 'x'\n",
    "#t=Test(10)     # __init__() takes 1 positional argument but 2 were given"
   ]
  },
  {
   "cell_type": "code",
   "execution_count": 50,
   "metadata": {},
   "outputs": [
    {
     "name": "stdout",
     "output_type": "stream",
     "text": [
      "constructor 2606525713088\n",
      "2606525713088\n"
     ]
    }
   ],
   "source": [
    "class Test:\n",
    "    def __init__(x):\n",
    "        print('constructor',id(x))\n",
    "        \n",
    "  \n",
    "        \n",
    "t=Test()\n",
    "print(id(t))\n",
    "    "
   ]
  },
  {
   "cell_type": "code",
   "execution_count": null,
   "metadata": {},
   "outputs": [],
   "source": [
    "The Complete Post-Mortem For Constructors:\n",
    "\n",
    "1.The Constructor is nothing but its a special method.\n",
    "2.The name of the constructor is always __init__\n",
    "3.We are NOT required to call the constructor explicitly,it will be executed automatically whenever we create an object.\n",
    "4.ForEach object the constructor will be executed only Once.\n",
    "5.The Main purpose of the constructor is to declare and initialize instance variables.__init__ means Initialization.\n",
    "6.The constructor must contain 'self'.\n",
    "7.Within the python class,constructor is optional,Incase we are not providing any constructor,PVM will provide a default constructor.\n",
    "8.We can call constructor explicitly,then it will be executed like a normal method and hence objects wont be created.\n",
    "9.Constructor or method overloading is NOT applicable in python.The PVM will always consider the most recent one,incase we are declaring multiple constrctor.\n"
   ]
  },
  {
   "cell_type": "code",
   "execution_count": 60,
   "metadata": {},
   "outputs": [
    {
     "name": "stdout",
     "output_type": "stream",
     "text": [
      "Constructor Execution...\n"
     ]
    }
   ],
   "source": [
    "class Test:\n",
    "    def __init__(self):\n",
    "        print('Constructor Execution...')\n",
    "        \n",
    "t1=Test()\n"
   ]
  },
  {
   "cell_type": "code",
   "execution_count": 61,
   "metadata": {},
   "outputs": [
    {
     "name": "stdout",
     "output_type": "stream",
     "text": [
      "Constructor Execution...\n",
      "Constructor Execution...\n",
      "Constructor Execution...\n",
      "Constructor Execution...\n",
      "Constructor Execution...\n"
     ]
    }
   ],
   "source": [
    "class Test:\n",
    "    def __init__(self):\n",
    "        print('Constructor Execution...')\n",
    "        \n",
    "t1=Test()\n",
    "t2=Test()\n",
    "t3=Test()\n",
    "t4=Test()\n",
    "t5=Test()"
   ]
  },
  {
   "cell_type": "code",
   "execution_count": 63,
   "metadata": {},
   "outputs": [
    {
     "name": "stdout",
     "output_type": "stream",
     "text": [
      "Method Execution\n"
     ]
    }
   ],
   "source": [
    "class Test:\n",
    "    def m1(self):\n",
    "        print('Method Execution')\n",
    "\n",
    "t=Test() # Default Constructor will be executed which is provided by PVM.\n",
    "t.m1()"
   ]
  },
  {
   "cell_type": "code",
   "execution_count": 65,
   "metadata": {},
   "outputs": [
    {
     "name": "stdout",
     "output_type": "stream",
     "text": [
      "Constructor Execution\n",
      "Constructor Execution\n"
     ]
    }
   ],
   "source": [
    "class Test:\n",
    "    def __init__(self):\n",
    "        print('Constructor Execution')\n",
    "\n",
    "t=Test() \n",
    "t.__init__()  #We can call constructor explicitly,then it will be executed like a normal method and hence objects wont be created"
   ]
  },
  {
   "cell_type": "code",
   "execution_count": 66,
   "metadata": {},
   "outputs": [
    {
     "name": "stdout",
     "output_type": "stream",
     "text": [
      "Constructor Execution: 2606524754096\n",
      "Constructor Execution: 2606524754096\n",
      "Constructor Execution: 2606524754096\n",
      "Constructor Execution: 2606524754096\n",
      "Constructor Execution: 2606524754096\n",
      "Constructor Execution: 2606524754096\n"
     ]
    }
   ],
   "source": [
    "class Test:\n",
    "    def __init__(self):\n",
    "        print('Constructor Execution:',id(self))\n",
    "\n",
    "t=Test()\n",
    "t.__init__()  ##We can call constructor explicitly,then it will be executed like a normal method and hence objects wont be created\n",
    "t.__init__()\n",
    "t.__init__()\n",
    "t.__init__()\n",
    "t.__init__()"
   ]
  },
  {
   "cell_type": "code",
   "execution_count": 68,
   "metadata": {},
   "outputs": [
    {
     "name": "stdout",
     "output_type": "stream",
     "text": [
      "no-arg constructor\n"
     ]
    }
   ],
   "source": [
    "class Test:\n",
    "    def __init__(self):\n",
    "        print('no-arg constructor')\n",
    "    def __init__(self,x):           #Constructor or method overloading is NOT applicable in python.The PVM will always consider the most recent one\n",
    "        print('no-arg constructor')\n",
    "        \n",
    "t=Test(1)\n"
   ]
  },
  {
   "cell_type": "code",
   "execution_count": 69,
   "metadata": {},
   "outputs": [
    {
     "name": "stdout",
     "output_type": "stream",
     "text": [
      "Satya\n",
      "Sunny\n"
     ]
    }
   ],
   "source": [
    "class Test:\n",
    "    def __init__(self,name):\n",
    "        self.name=name\n",
    "\n",
    "t=Test('Satya')\n",
    "print(t.name)\n",
    "t.__init__('Sunny')  #Re Initialization\n",
    "print(t.name)\n",
    "       "
   ]
  },
  {
   "cell_type": "code",
   "execution_count": 73,
   "metadata": {},
   "outputs": [],
   "source": [
    "class Test:\n",
    "    def __init__(self,name):\n",
    "        self.name=name\n",
    "\n",
    "class Demo:\n",
    "    def __init__(self,name):\n",
    "        self.name=name\n",
    "    \n",
    "\n",
    "t=Test('Sunny')\n",
    "d=Demo('Sachin')\n",
    "t.__init__('Bunny')\n",
    "d.__init__('Dravid')\n",
    "       "
   ]
  },
  {
   "cell_type": "code",
   "execution_count": 74,
   "metadata": {},
   "outputs": [
    {
     "name": "stdout",
     "output_type": "stream",
     "text": [
      "A Special Method...\n"
     ]
    }
   ],
   "source": [
    "class Test:\n",
    "    def Test(self):\n",
    "        print('A Special Method...')   # The Method name is same as class name.\n",
    "t=Test()\n",
    "t.Test()"
   ]
  },
  {
   "cell_type": "code",
   "execution_count": 76,
   "metadata": {},
   "outputs": [
    {
     "name": "stdout",
     "output_type": "stream",
     "text": [
      "18000.0\n"
     ]
    }
   ],
   "source": [
    "class Employee:\n",
    "    def __init__(self,name,age,salary):\n",
    "        self.name=name\n",
    "        self.age=age\n",
    "        self.salary=salary\n",
    "    def get_bonus(self):\n",
    "        bonus=self.salary*0.2\n",
    "        return bonus\n",
    "    \n",
    "e=Employee('Satya',30,90000)\n",
    "print(e.get_bonus())\n",
    "\n",
    "    "
   ]
  },
  {
   "cell_type": "code",
   "execution_count": null,
   "metadata": {},
   "outputs": [],
   "source": [
    "Diffrence Between Method and Construtor:\n",
    "    \n",
    "    "
   ]
  },
  {
   "cell_type": "code",
   "execution_count": 15,
   "metadata": {},
   "outputs": [
    {
     "name": "stdout",
     "output_type": "stream",
     "text": [
      "Enter The Name Of The Movie:a\n",
      "Enter The Name Of The Actor:b\n",
      "Enter The Name Of The Actress:c\n",
      "Movies Is Addded To The List Successfully:\n",
      "Do You Want to add More Movies [YES|NO]:no\n",
      "All Movies Information... \n",
      "Movie Name: a\n",
      "Actor Name: b\n",
      "Actress Name: c\n",
      "\n"
     ]
    }
   ],
   "source": [
    "# A Mini Application:\n",
    "# 1.Multiple Movie objects.\n",
    "# 2.Add Objects to the list.\n",
    "# 3.Try to get those objects 1 by 1 from the list and invoke the movie class functionality on that object.\n",
    "\n",
    "class Movie:\n",
    "    '''This Movie Class is Developed by Satya for Demo Purpose'''\n",
    "    def __init__(self,title,actor,actress):\n",
    "        self.title=title\n",
    "        self.actor=actor\n",
    "        self.actress=actress\n",
    "      \n",
    "    def info(self):\n",
    "        print('Movie Name:',self.title)\n",
    "        print('Actor Name:',self.actor)\n",
    "        print('Actress Name:',self.actress)\n",
    "        \n",
    "list_of_movies=[]\n",
    "while True:\n",
    "    title=input('Enter The Name Of The Movie:')\n",
    "    actor=input('Enter The Name Of The Actor:')\n",
    "    actress=input('Enter The Name Of The Actress:')\n",
    "    m=Movie(title,actor,actress)\n",
    "    list_of_movies.append(m)\n",
    "    print('Movies Is Addded To The List Successfully:')\n",
    "    option=input('Do You Want to add More Movies [YES|NO]:')\n",
    "    if option.lower() == 'no':\n",
    "        break\n",
    "        \n",
    "print('All Movies Information... ')\n",
    "for movie in list_of_movies:\n",
    "    movie.info()\n",
    "    print()\n",
    "\n",
    "\n"
   ]
  },
  {
   "cell_type": "code",
   "execution_count": null,
   "metadata": {},
   "outputs": [],
   "source": [
    "Types Of Variables And Methods:\n",
    "\n",
    "There are 3 types of variables allowed in python.\n",
    "1.Instance Variable(Object level variable)\n",
    "2.Static Variable\n",
    "3.Local Variable.\n",
    "\n",
    "\n",
    "1.Instance Variables(Object Level Variables:)\n",
    "\n",
    "A.If the variables are varies from object to object then such type of variables are known as Instance Variables or Object level variables.\n",
    "\n",
    "B.In Case of Instance variables a separate copy will be created.\n",
    "\n",
    "C.In general we can define it inside the constructor by using self.\n",
    "\n",
    "2.Static Variables:(Class Level Variables):\n",
    "\n",
    "A.These variables that aren NOT varied from object to object,its not recommended to declare such variables as instance variables,\n",
    "in such cases static variables or class level variables are preffered.\n",
    "\n",
    "B.In Case of Instance variables for every object a separate copy is created,\n",
    "but in static variables,a single copy is created and shared to each object in the class.\n",
    "\n",
    "\n",
    "3.Local Variables(Method Level):To meet temporary requirement of a programmer,we declare local variables inside a method.\n"
   ]
  },
  {
   "cell_type": "code",
   "execution_count": 22,
   "metadata": {},
   "outputs": [],
   "source": [
    "class Student:\n",
    "    collegename='Durgasoft'         #Static variable     \n",
    "    def __init__(self,name,rollno):\n",
    "        self.name=name              #Instance variables       \n",
    "        self.rollno=rollno          #Instance variables  \n",
    "        \n",
    "    def m1(self):\n",
    "        x=10                       # x is a local Variable\n",
    "        for i in range(x):         # i is a local Variable\n",
    "            print(i)\n",
    "\n",
    "    \n",
    "   "
   ]
  },
  {
   "cell_type": "code",
   "execution_count": 37,
   "metadata": {},
   "outputs": [
    {
     "name": "stdout",
     "output_type": "stream",
     "text": [
      "Student Name: Satya\n",
      "Student rolllno 123\n"
     ]
    }
   ],
   "source": [
    "class Student:\n",
    "    \n",
    "    collegename='Durgasoft'  \n",
    "    \n",
    "    def __init__(self,name,rollno):\n",
    "        self.name=name                   \n",
    "        self.rollno=rollno           \n",
    "        \n",
    "    def getstudentsinfo(self):           #Instance Method\n",
    "        print('Student Name:',self.name)\n",
    "        print('Student rolllno',self.rollno)\n",
    "        \n",
    "        \n",
    "        \n",
    "s=Student('Satya',123)\n",
    "s.getstudentsinfo()\n"
   ]
  },
  {
   "cell_type": "code",
   "execution_count": null,
   "metadata": {},
   "outputs": [],
   "source": [
    "Basic Idea about Types Of Methods:\n",
    "    \n",
    "1.Instance Method()\n",
    "2.Class Method(Class related method)\n",
    "3.Static Method(General Utility Method)\n",
    "\n",
    "\n",
    "1.Instance Method():\n",
    "    \n",
    "A.If we are accessing instance variables.whether we are using static and local variable or not.\n",
    "    \n",
    "B.The 1st argument to instance method is always 'self'.\n",
    "\n",
    "\n",
    "If we are using at-least 1 instance variable,(whether using static variable or not)--->Instance Method\n",
    "\n",
    "If we are not using any Instance variable then its always  \"Class Method\" or \"Static Method\".\n",
    "\n",
    "If we are not using any instance variable ,but using static variable:Class Method\n",
    "\n",
    "    \n",
    "If we are not using neither any Instance variables nor static variables then this method is no way related to any Class or Object.\n",
    "This is a general Utility method.We've to declare such methods are static method. \n"
   ]
  },
  {
   "cell_type": "code",
   "execution_count": null,
   "metadata": {},
   "outputs": [],
   "source": [
    "self--->Reference variable to the current object.\n",
    "cls--->Reference variable to the 'class level object'.\n",
    "\n",
    "Class Level Object: For Every class PVM internally create 1 special object that is called as \"Class Level Object\".\n",
    "  \n",
    "This class level object holds class level data.\n",
    "For Any python class,Only 1 class-level object is created.\n",
    "\n",
    "decorator is used ,if we dont use decorator it will be treated as instance method.\n",
    "\n"
   ]
  },
  {
   "cell_type": "code",
   "execution_count": 54,
   "metadata": {},
   "outputs": [
    {
     "name": "stdout",
     "output_type": "stream",
     "text": [
      "Student Name: Satya\n",
      "Student rolllno 123\n",
      "College Name: Microsoft\n",
      "Director Name Nadella\n",
      "Average is: 20.0\n"
     ]
    }
   ],
   "source": [
    "class Student:\n",
    "    \n",
    "    collegeName='Microsoft'\n",
    "    director='Nadella'\n",
    "    \n",
    "    def __init__(self,name,rollno):\n",
    "        self.name=name                   \n",
    "        self.rollno=rollno           \n",
    "        \n",
    "    def getstudentsinfo(self):           #Instance method\n",
    "        print('Student Name:',self.name)\n",
    "        print('Student rolllno',self.rollno)\n",
    "        \n",
    "    @classmethod                        #Decorator\n",
    "    def getcolleinfo(cls):              #Cls is the pointer to access class level object.\n",
    "        print('College Name:',cls.collegeName)\n",
    "        print('Director Name',cls.director)\n",
    "        \n",
    "    @staticmethod    \n",
    "    def getAverage(a,b,c):       #General Utility method/Stattic method\n",
    "        return (a+b+c)/3\n",
    "        \n",
    "s=Student('Satya',123)\n",
    "s.getstudentsinfo()\n",
    "Student.getcolleinfo()\n",
    "average=Student.getAverage(10,20,30)\n",
    "print('Average is:',average)\n",
    "    "
   ]
  },
  {
   "cell_type": "code",
   "execution_count": 50,
   "metadata": {},
   "outputs": [
    {
     "name": "stdout",
     "output_type": "stream",
     "text": [
      "1562370132816\n",
      "1562370132816\n",
      "1562370132816\n"
     ]
    }
   ],
   "source": [
    "class Test:\n",
    "    @classmethod  \n",
    "    def m1(cls):\n",
    "        print(id(cls))\n",
    "    @classmethod\n",
    "    def m2(cls):\n",
    "        print(id(cls))\n",
    "print(id(Test))\n",
    "Test.m1()\n",
    "Test.m2()"
   ]
  },
  {
   "cell_type": "code",
   "execution_count": null,
   "metadata": {},
   "outputs": [],
   "source": [
    "The first argument to instance method :self which points to the current object.\n",
    "The First argument to class method:cls,which pointing to corresponding class object.\n",
    "    \n",
    "Instance method --->No Decorator\n",
    "Class methid-->@classmethod\n",
    "Static Method-->@staticmethod.\n",
    "\n"
   ]
  },
  {
   "cell_type": "code",
   "execution_count": null,
   "metadata": {},
   "outputs": [],
   "source": [
    "The Complete Story Of Instance Variables:\n",
    "    \n",
    "1.If the values of the variables varied from object to oject thaose variables are konwn as Instance variables.\n",
    "\n",
    "2.For Every object a separete copy of instance variables will be created.\n",
    "\n",
    "3. In general we declare it inside constructor.\n",
    "\n",
    "# Various Places to declare Instance Variables:\n",
    "    \n",
    "Inside Constructor by using self.\n",
    "Inside instance method by using self.\n",
    "Outside of a class by object reference.\n",
    "\n"
   ]
  },
  {
   "cell_type": "code",
   "execution_count": 62,
   "metadata": {},
   "outputs": [
    {
     "name": "stdout",
     "output_type": "stream",
     "text": [
      "{'a': 10, 'b': 20, 'c': 30, 'd': 40, 'e': 50}\n"
     ]
    }
   ],
   "source": [
    "class Test:\n",
    "    def __init__(self): \n",
    "        self.a=10      #Instance variabls declared under a constructor.\n",
    "        self.b=20      #Instance variabls declared under a constructor.\n",
    "    \n",
    "    def m1(self):      #Instance variables declares under a instance method.\n",
    "        self.c=30\n",
    "        \n",
    "t=Test()\n",
    "t.m1()              # We ve to call the instance method to display the content:{'a': 10, 'b': 20, 'c': 30}\n",
    "t.d=40              #instance Variables declares out-side of a class:{'a': 10, 'b': 20, 'c': 30, 'd': 40}\n",
    "t.e=50              #instance Variables declares out-side of a class:{'a': 10, 'b': 20, 'c': 30, 'd': 40, 'e': 50}\n",
    "print(t.__dict__)   #{'a': 10, 'b': 20}"
   ]
  },
  {
   "cell_type": "code",
   "execution_count": 65,
   "metadata": {},
   "outputs": [
    {
     "name": "stdout",
     "output_type": "stream",
     "text": [
      "{'a': 10, 'b': 20, 'c': 30}\n",
      "{'a': 10, 'b': 20, 'd': 40}\n"
     ]
    }
   ],
   "source": [
    "class Test:\n",
    "    def __init__(self): \n",
    "        self.a=10     \n",
    "        self.b=20      \n",
    "    \n",
    "    def m1(self):     \n",
    "        self.c=30\n",
    "        \n",
    "t1=Test()\n",
    "t1.m1()\n",
    "t2=Test()\n",
    "t2.d=40\n",
    "print(t1. __dict__)     # {'a': 10, 'b': 20, 'c': 30}\n",
    "print(t2. __dict__)     # {'a': 10, 'b': 20, 'd': 40}"
   ]
  },
  {
   "cell_type": "code",
   "execution_count": null,
   "metadata": {},
   "outputs": [],
   "source": [
    "How to access Instance Variables:\n",
    "    \n",
    "1.We can access instance variables within the class,by using \"self\".\n",
    "2.Outside of a class by using Object reference.\n",
    "\n",
    "How How To delete instance Instance Variables?\n",
    "\n",
    "1.Within the class:del self.variablename\n",
    "    \n",
    "2.Outside of a class: del objectreference.variablename\n",
    "    \n"
   ]
  },
  {
   "cell_type": "code",
   "execution_count": 66,
   "metadata": {},
   "outputs": [
    {
     "name": "stdout",
     "output_type": "stream",
     "text": [
      "10\n",
      "20\n",
      "10\n",
      "20\n"
     ]
    }
   ],
   "source": [
    "class Test:\n",
    "    def __init__(self): \n",
    "        self.a=10     \n",
    "        self.b=20      \n",
    "    \n",
    "    def m1(self):     \n",
    "        self.c=30\n",
    "        print(self.a)   #Inside of a class by using self\n",
    "        print(self.b)   #Inside of a class by using self\n",
    "        \n",
    "t=Test()\n",
    "t.m1()\n",
    "print(t.a)             #outside of a class by using object reference\n",
    "print(t.b)             #outside of a class by using object reference\n"
   ]
  },
  {
   "cell_type": "code",
   "execution_count": 73,
   "metadata": {},
   "outputs": [
    {
     "name": "stdout",
     "output_type": "stream",
     "text": [
      "{'a': 10, 'b': 20, 'c': 30, 'd': 40, 'e': 50}\n",
      "{'b': 20, 'c': 30, 'd': 40, 'e': 50}\n",
      "{'c': 30, 'd': 40, 'e': 50}\n",
      "{}\n"
     ]
    }
   ],
   "source": [
    "class Test:\n",
    "    def __init__(self): \n",
    "        self.a=10     \n",
    "        self.b=20\n",
    "        self.c=30\n",
    "        self.d=40\n",
    "        self.e=50\n",
    "        \n",
    "    def m1(self):\n",
    "        del self.a\n",
    "\n",
    "t=Test()\n",
    "print(t. __dict__) # {'a': 10, 'b': 20, 'c': 30, 'd': 40, 'e': 50}\n",
    "t.m1()\n",
    "print(t. __dict__) # {'b': 20, 'c': 30, 'd': 40, 'e': 50}\n",
    "del t.b\n",
    "print(t. __dict__) # {'c': 30, 'd': 40, 'e': 50}\n",
    "del t.c,t.d,t.e\n",
    "print(t. __dict__)  # {}"
   ]
  },
  {
   "cell_type": "code",
   "execution_count": 75,
   "metadata": {},
   "outputs": [
    {
     "name": "stdout",
     "output_type": "stream",
     "text": [
      "{'b': 20, 'c': 30, 'd': 40, 'e': 50}\n",
      "{'a': 10, 'b': 20, 'c': 30, 'd': 40, 'e': 50}\n"
     ]
    }
   ],
   "source": [
    "class Test:\n",
    "    def __init__(self): \n",
    "        self.a=10     \n",
    "        self.b=20\n",
    "        self.c=30\n",
    "        self.d=40\n",
    "        self.e=50\n",
    "        \n",
    "    def m1(self):\n",
    "        del self.a\n",
    "\n",
    "t1=Test()\n",
    "t2=Test()\n",
    "del t1.a\n",
    "print(t1. __dict__)  # {'b': 20, 'c': 30, 'd': 40, 'e': 50}\n",
    "print(t2. __dict__)  # {'a': 10, 'b': 20, 'c': 30, 'd': 40, 'e': 50}\n"
   ]
  },
  {
   "cell_type": "code",
   "execution_count": 77,
   "metadata": {},
   "outputs": [
    {
     "name": "stdout",
     "output_type": "stream",
     "text": [
      "{'a': 888, 'b': 999}\n",
      "{'a': 10, 'b': 20}\n"
     ]
    }
   ],
   "source": [
    "class Test:\n",
    "    def __init__(self): \n",
    "        self.a=10     \n",
    "        self.b=20\n",
    "       \n",
    "    def m1(self):\n",
    "        del self.a\n",
    "\n",
    "t1=Test()\n",
    "t2=Test()\n",
    "t1.a=888\n",
    "t1.b=999\n",
    "print(t1. __dict__) # {'a': 888, 'b': 999}\n",
    "print(t2. __dict__) # {'a': 10, 'b': 20}"
   ]
  },
  {
   "cell_type": "code",
   "execution_count": 82,
   "metadata": {},
   "outputs": [
    {
     "name": "stdout",
     "output_type": "stream",
     "text": [
      "{'a': 40, 'b': 20, 'c': 50}\n"
     ]
    }
   ],
   "source": [
    "class Test:\n",
    "    \n",
    "    def __init__(self):\n",
    "        self.a=10     \n",
    "     \n",
    "       \n",
    "    def m1(self):\n",
    "        self.a=20\n",
    "        self.b=20\n",
    "\n",
    "t=Test()\n",
    "t.m1()\n",
    "t.a=40\n",
    "t.c=50\n",
    "print(t. __dict__)"
   ]
  },
  {
   "cell_type": "code",
   "execution_count": null,
   "metadata": {},
   "outputs": [],
   "source": [
    "Static Variables:\n",
    "\n",
    "If the values of variables NOT varies from object to object this is called class level variables and only 1 copy is created.\n",
    "\n",
    "In general we can access static variables by class name.\n",
    "\n",
    "Various places to declare static variables:\n",
    "-----------------------------------------\n",
    "    \n",
    "In general we can declare the static variables within the class directly but outside of any method.\n",
    "\n",
    "2.Inside Constructor and Instance method,by using class name.\n",
    "\n",
    "3.Inside class method by using either by class name or cls variable.\n",
    "\n",
    "4.Inside Static method by using class name.\n",
    "\n",
    "5.From outside of a class by using class name.\n",
    "\n",
    "\n",
    "SO WE CAN DECLARE STATIC VARIABLE WITHIN THE CLASS DIRECTLY,\n",
    "BUT IN ALL OTHER PLACES,BY USING CLASS NAME OR BY CLS VARIABLLE.\n"
   ]
  },
  {
   "cell_type": "code",
   "execution_count": 93,
   "metadata": {},
   "outputs": [
    {
     "name": "stdout",
     "output_type": "stream",
     "text": [
      "{'__module__': '__main__', 'a': 1234, '__init__': <function Test.__init__ at 0x0000016BC6956EE0>, 'm1': <function Test.m1 at 0x0000016BC646F160>, 'm2': <classmethod object at 0x0000016BC677C460>, 'm3': <staticmethod object at 0x0000016BC677C0A0>, '__dict__': <attribute '__dict__' of 'Test' objects>, '__weakref__': <attribute '__weakref__' of 'Test' objects>, '__doc__': None, 'b': 20, 'c': 30, 'd': 40, 'e': 50, 'f': 60, 'g': 70}\n"
     ]
    }
   ],
   "source": [
    "# Exmample:\n",
    "class Test:\n",
    "    \n",
    "    a=1234  \n",
    "  \n",
    "    def __init__(self):\n",
    "        Test.b=20\n",
    "        \n",
    "    def m1(self):\n",
    "        Test.c=30\n",
    "        \n",
    "    @classmethod\n",
    "    def m2(cls):\n",
    "        Test.d=40\n",
    "        cls.e=50\n",
    "        \n",
    "    @staticmethod\n",
    "    def m3():\n",
    "        Test.f=60\n",
    "    \n",
    "        \n",
    "t=Test()\n",
    "t.m1()\n",
    "Test.m2()\n",
    "Test.m3()\n",
    "Test.g=70\n",
    "print(Test. __dict__)  #'a': 1234:Class level.\n"
   ]
  },
  {
   "cell_type": "code",
   "execution_count": null,
   "metadata": {},
   "outputs": [],
   "source": [
    "How To Access Static variables??\n",
    "\n",
    "we can access static variables by using self,classname,cls,and object reference respectively.\n"
   ]
  },
  {
   "cell_type": "code",
   "execution_count": 96,
   "metadata": {},
   "outputs": [
    {
     "name": "stdout",
     "output_type": "stream",
     "text": [
      "10\n",
      "10\n",
      "10\n",
      "10\n",
      "10\n",
      "10\n",
      "10\n",
      "10\n",
      "10\n"
     ]
    }
   ],
   "source": [
    "class Test:\n",
    "    \n",
    "    a=10 \n",
    "  \n",
    "    def __init__(self):\n",
    "        print(self.a)\n",
    "        print(Test.a)\n",
    "        \n",
    "    def m1(self):\n",
    "        print(self.a)\n",
    "        print(Test.a)\n",
    "    \n",
    "    @classmethod\n",
    "    def m2(cls):\n",
    "        print(cls.a)\n",
    "        print(Test.a)\n",
    "        \n",
    "    @staticmethod\n",
    "    def m3():\n",
    "        print(Test.a)\n",
    "\n",
    "t=Test()\n",
    "t.m1()\n",
    "Test.m2()\n",
    "Test.m3()\n",
    "print(t.a)\n",
    "print(Test.a)\n",
    "        "
   ]
  },
  {
   "cell_type": "code",
   "execution_count": null,
   "metadata": {},
   "outputs": [],
   "source": [
    "Q:How to Modify the values of Static variables??\n",
    "\n",
    "Ans:We should update the values of static variable either by classname or by cls variable.\n",
    "we can NOT use self or Object reference to update static variable value.\n",
    "\n",
    "    "
   ]
  },
  {
   "cell_type": "code",
   "execution_count": 98,
   "metadata": {},
   "outputs": [
    {
     "name": "stdout",
     "output_type": "stream",
     "text": [
      "30\n"
     ]
    }
   ],
   "source": [
    "class Test:\n",
    "    a=10\n",
    "    @classmethod\n",
    "    def m1(cls):\n",
    "        cls.a=20\n",
    "        \n",
    "    @staticmethod\n",
    "    def m2():\n",
    "        Test.a=30\n",
    "        \n",
    "    \n",
    "Test.m1()\n",
    "Test.m2()\n",
    "print(Test.a)"
   ]
  },
  {
   "cell_type": "code",
   "execution_count": 100,
   "metadata": {},
   "outputs": [
    {
     "name": "stdout",
     "output_type": "stream",
     "text": [
      "10\n",
      "888\n"
     ]
    }
   ],
   "source": [
    "class Test:\n",
    "    a=10\n",
    "    def m1(self):\n",
    "        self.a=888\n",
    "        \n",
    "t=Test()\n",
    "t.m1()\n",
    "print(Test.a) #10\n",
    "print(t.a)    #888"
   ]
  },
  {
   "cell_type": "code",
   "execution_count": null,
   "metadata": {},
   "outputs": [],
   "source": [
    "We can declare static variable by:classname,cls variable\n",
    "        access static variable by:Classname,cls,self,object reference.\n",
    "        update static variale  by:classname,cls variable. "
   ]
  },
  {
   "cell_type": "code",
   "execution_count": 105,
   "metadata": {},
   "outputs": [
    {
     "name": "stdout",
     "output_type": "stream",
     "text": [
      "t1: 10 20\n",
      "t2: 10 20\n",
      "t1: 888 999\n",
      "t2: 10 20\n"
     ]
    }
   ],
   "source": [
    "#Example:1\n",
    "class Test:\n",
    "    x=10\n",
    "    def __init__(self):\n",
    "        self.y=20\n",
    "\n",
    "t1=Test()\n",
    "t2=Test()\n",
    "print('t1:',t1.x,t1.y)  # t1: 10 20\n",
    "print('t2:',t2.x,t2.y)  # t2: 10 20\n",
    "t1.x=888\n",
    "t1.y=999\n",
    "print('t1:',t1.x,t1.y)  # t1: 888 999\n",
    "print('t2:',t2.x,t2.y)  # t2: 10 20\n",
    "\n"
   ]
  },
  {
   "cell_type": "code",
   "execution_count": 107,
   "metadata": {},
   "outputs": [
    {
     "name": "stdout",
     "output_type": "stream",
     "text": [
      "t1: 10 20\n",
      "t2: 10 20\n",
      "t1: 888 999\n",
      "t2: 888 20\n"
     ]
    }
   ],
   "source": [
    "#Example:2\n",
    "class Test:\n",
    "    x=10\n",
    "    def __init__(self):\n",
    "        self.y=20\n",
    "\n",
    "t1=Test()\n",
    "t2=Test()\n",
    "print('t1:',t1.x,t1.y)  # t1: 10 20\n",
    "print('t2:',t2.x,t2.y)  # t2: 10 20\n",
    "Test.x=888\n",
    "t1.y=999\n",
    "print('t1:',t1.x,t1.y)  # t1: 888 999\n",
    "print('t2:',t2.x,t2.y)  # t2: 888 20"
   ]
  },
  {
   "cell_type": "code",
   "execution_count": 112,
   "metadata": {},
   "outputs": [
    {
     "name": "stdout",
     "output_type": "stream",
     "text": [
      "t1: 888 999\n",
      "t2: 10 20\n"
     ]
    }
   ],
   "source": [
    "#Example:3\n",
    "class Test:\n",
    "    x=10\n",
    "    def __init__(self):\n",
    "        \n",
    "        self.y=20\n",
    "        \n",
    "    def m1(self):\n",
    "        self.x=888\n",
    "        self.y=999\n",
    "\n",
    "t1=Test()\n",
    "t2=Test()\n",
    "t1.m1()\n",
    "print('t1:',t1.x,t1.y)  \n",
    "print('t2:',t2.x,t2.y)  \n"
   ]
  },
  {
   "cell_type": "code",
   "execution_count": 114,
   "metadata": {},
   "outputs": [
    {
     "name": "stdout",
     "output_type": "stream",
     "text": [
      "t1: 888 20\n",
      "t2: 888 20\n",
      "Test: 888 999\n"
     ]
    }
   ],
   "source": [
    "#Example:3\n",
    "class Test:\n",
    "    x=10\n",
    "    def __init__(self):\n",
    "        self.y=20\n",
    "        \n",
    "        \n",
    "    @classmethod \n",
    "    def m1(cls):\n",
    "        cls.x=888\n",
    "        cls.y=999\n",
    "\n",
    "t1=Test()\n",
    "t2=Test()\n",
    "t1.m1()\n",
    "print('t1:',t1.x,t1.y)  \n",
    "print('t2:',t2.x,t2.y) \n",
    "print('Test:',Test.x,Test.y)"
   ]
  },
  {
   "cell_type": "code",
   "execution_count": null,
   "metadata": {},
   "outputs": [],
   "source": []
  },
  {
   "cell_type": "code",
   "execution_count": null,
   "metadata": {},
   "outputs": [],
   "source": []
  }
 ],
 "metadata": {
  "kernelspec": {
   "display_name": "Python 3",
   "language": "python",
   "name": "python3"
  },
  "language_info": {
   "codemirror_mode": {
    "name": "ipython",
    "version": 3
   },
   "file_extension": ".py",
   "mimetype": "text/x-python",
   "name": "python",
   "nbconvert_exporter": "python",
   "pygments_lexer": "ipython3",
   "version": "3.8.3"
  }
 },
 "nbformat": 4,
 "nbformat_minor": 4
}
